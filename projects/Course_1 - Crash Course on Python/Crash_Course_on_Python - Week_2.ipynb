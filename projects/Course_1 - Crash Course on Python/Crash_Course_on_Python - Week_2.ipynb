{
 "cells": [
  {
   "cell_type": "code",
   "execution_count": 1,
   "id": "00335cb9-7026-4f58-b86d-5fb0584a2be3",
   "metadata": {},
   "outputs": [
    {
     "name": "stdout",
     "output_type": "stream",
     "text": [
      "How do you like Python so far?\n"
     ]
    }
   ],
   "source": [
    "word1 = \"How\"\n",
    "word2 = \"do\"\n",
    "word3 = \"you\"\n",
    "word4 = \"like\"\n",
    "word5 = \"Python\"\n",
    "word6 = \"so\"\n",
    "word7 = \"far?\"\n",
    "\n",
    "print(' '.join([eval(str('word'+str(i+1))) for i in range(7)]))"
   ]
  },
  {
   "cell_type": "code",
   "execution_count": 2,
   "id": "0477f4cf-e1e1-44d1-8652-9477e59e37ca",
   "metadata": {},
   "outputs": [
    {
     "name": "stdout",
     "output_type": "stream",
     "text": [
      "Welcome, Erwin\n",
      "You are part of Data Science Team\n"
     ]
    }
   ],
   "source": [
    "def greeting(name,department):\n",
    "    print(\"Welcome, \" + name)\n",
    "    print(\"You are part of \" + department)\n",
    "    \n",
    "greeting(\"Erwin\", \"Data Science Team\")\n"
   ]
  },
  {
   "cell_type": "code",
   "execution_count": 3,
   "id": "0b5ec813-7696-4fe8-8f14-d0bbe75ee924",
   "metadata": {},
   "outputs": [
    {
     "name": "stdout",
     "output_type": "stream",
     "text": [
      "The sum of both area is: 20.5\n"
     ]
    }
   ],
   "source": [
    "def area_triangle(base, height):\n",
    "    return base*height/2\n",
    "\n",
    "area_a = area_triangle(5,4)\n",
    "area_b = area_triangle(7,3)\n",
    "sum = area_a + area_b\n",
    "print(\"The sum of both area is: \" + str(sum))"
   ]
  },
  {
   "cell_type": "code",
   "execution_count": 4,
   "id": "65e7818b-ca02-41ee-9cfe-fa626020525d",
   "metadata": {},
   "outputs": [
    {
     "name": "stdout",
     "output_type": "stream",
     "text": [
      "Welcome, Christine\n",
      "None\n"
     ]
    }
   ],
   "source": [
    "def greeting(name):\n",
    "    print(\"Welcome, \" + name)\n",
    " \n",
    "result = greeting(\"Christine\")\n",
    "print(result)"
   ]
  },
  {
   "cell_type": "code",
   "execution_count": 5,
   "id": "a6a36d52-7419-4abe-8772-f50354ab9d0c",
   "metadata": {},
   "outputs": [
    {
     "name": "stdout",
     "output_type": "stream",
     "text": [
      "Welcome, Christine\n",
      "Welcome, Christine\n"
     ]
    }
   ],
   "source": [
    "def greeting(name):\n",
    "    message = \"Welcome, \" + name\n",
    "    print(message)\n",
    "    return message\n",
    "\n",
    "result = greeting(\"Christine\")\n",
    "print(result)"
   ]
  },
  {
   "cell_type": "code",
   "execution_count": 6,
   "id": "03365e69-98ff-4c4e-ad54-8b26884dde87",
   "metadata": {},
   "outputs": [
    {
     "name": "stdout",
     "output_type": "stream",
     "text": [
      "903\n"
     ]
    }
   ],
   "source": [
    "# This function calculates the number of days in a variable number of \n",
    "# years, months, and days. These variables are provided by the user and\n",
    "# are passed to the function through the function’s parameters.\n",
    "def find_total_days(years, months, days):\n",
    "    \n",
    "# Assign a variable to hold the calculations for the number of days in\n",
    "# a year (years*365) plus the number of days in a month (months*30) plus\n",
    "# the number of days provided through the \"days\" parameter variable.\n",
    "    my_days = (years*365) + (months*30) + days\n",
    "    \n",
    "# Use the \"return\" keyword to send the result of the \"my_days\"  \n",
    "# calculation to the function call. \n",
    "    return my_days\n",
    " \n",
    "# Function call with user provided parameter values. \n",
    "print(find_total_days(2,5,23))"
   ]
  },
  {
   "cell_type": "code",
   "execution_count": 7,
   "id": "d1f35559-bec0-4650-ac78-cadb5ca0b82a",
   "metadata": {},
   "outputs": [
    {
     "name": "stdout",
     "output_type": "stream",
     "text": [
      "The volume in millimeters is 59.0\n",
      "The volume in millimeters is 118.0\n"
     ]
    }
   ],
   "source": [
    "# This function converts fluid ounces to milliliters and returns the \n",
    "# result of the conversion.\n",
    "def convert_volume(fluid_ounce):\n",
    "# Calculate value of the \"ml\" variable using the parameter variable \n",
    "# \"fluid_ounce\". There are approximately 29.5 milliliters in 1 fluid\n",
    "# ounce.\n",
    "    ml = fluid_ounce * 29.5  \n",
    "# Return the result of the calculation.  \n",
    "    return ml\n",
    " \n",
    "# Call the conversion from within the print() function using 2 fluid \n",
    "# ounces. Convert the return value from a float to a string.  \n",
    "print(\"The volume in millimeters is \" + str(convert_volume(2)))\n",
    " \n",
    "# Call the function again and double the 2 fluid ounces from within\n",
    "# the print function.\n",
    "print(\"The volume in millimeters is \" + str(convert_volume(2)*2))\n",
    "# Alternative calculation:\n",
    "# print(\"The volume in millimeters is \" + str(convert_volume(4))\n"
   ]
  },
  {
   "cell_type": "code",
   "execution_count": 8,
   "id": "fae88376-1808-491b-a6cd-77a27dc0f628",
   "metadata": {},
   "outputs": [
    {
     "name": "stdout",
     "output_type": "stream",
     "text": [
      "The distance in kilometers is 88.0\n",
      "The round-trip in kilometers is 176.0\n"
     ]
    }
   ],
   "source": [
    "# 1) Complete the function to return the result of the conversion\n",
    "def convert_distance(miles):\n",
    "\tkm = miles * 1.6  # approximately 1.6 km in 1 mile\n",
    "\treturn km\n",
    "\n",
    "# Do not indent any of the following lines of code as they are \n",
    "# meant to be located outside of the function above\n",
    "\n",
    "my_trip_miles = 55\n",
    "\n",
    "# 2) Convert my_trip_miles to kilometers by calling the function above\n",
    "my_trip_km = convert_distance(my_trip_miles)\n",
    "\n",
    "# 3) Fill in the blank to print the result of the my_trip_km conversion\n",
    "print(\"The distance in kilometers is \" + str(my_trip_km))\n",
    "\n",
    "# 4) Calculate the round-trip in kilometers by doubling the result of\n",
    "#    my_trip_km. Fill in the blank to print the result.\n",
    "print(\"The round-trip in kilometers is \" + str(my_trip_km*2))"
   ]
  },
  {
   "cell_type": "code",
   "execution_count": 9,
   "id": "1992156d-2b41-4306-a796-749f49904563",
   "metadata": {},
   "outputs": [
    {
     "name": "stdout",
     "output_type": "stream",
     "text": [
      "99 100\n"
     ]
    }
   ],
   "source": [
    "# This function compares two numbers and returns them\n",
    "# in increasing order.\n",
    "def order_numbers(number1, number2):\n",
    "\tif number2 > number1:\n",
    "\t\treturn number1, number2\n",
    "\telse:\n",
    "\t\treturn number2, number1\n",
    "\n",
    "# 1) Fill in the blanks so the print statement displays the result\n",
    "#    of the function call\n",
    "smaller,bigger= order_numbers(100, 99)\n",
    "print(smaller, bigger)"
   ]
  },
  {
   "cell_type": "code",
   "execution_count": 10,
   "id": "3f7486e3-82dc-4bf2-a930-3d9486ca2513",
   "metadata": {},
   "outputs": [
    {
     "name": "stdout",
     "output_type": "stream",
     "text": [
      "3723\n"
     ]
    }
   ],
   "source": [
    "def print_seconds(hours, minutes, seconds):\n",
    "    print(hours*3600+minutes*60+seconds)\n",
    "\n",
    "\n",
    "print_seconds(1,2,3)\n",
    "#output will print to the screen\n"
   ]
  },
  {
   "cell_type": "code",
   "execution_count": 14,
   "id": "487ea44d-511c-45bc-b9dd-9f665a0fef7c",
   "metadata": {},
   "outputs": [
    {
     "name": "stdout",
     "output_type": "stream",
     "text": [
      "The whole_number value is: 3\n",
      "The remainder value is: 5\n",
      "40\n"
     ]
    }
   ],
   "source": [
    "# This function rounds a variable number up to the nearest 10x value\n",
    "def round_up(number):\n",
    "  x = 10\n",
    "# The floor division operator will calculate the integer value of\n",
    "# \"number\" divided by x: 35 // 10 will return the integer 3.\n",
    "  whole_number = number // x\n",
    "  print(\"The whole_number value is: \" + str(whole_number))\n",
    "# The modulo operator will calculate the remainder value of \"number\"\n",
    "# divided by x: 35 % 10 will return the remainder value 5.\n",
    "  remainder = number % x\n",
    "  print(\"The remainder value is: \" + str(remainder))\n",
    "# If the remainder is greater than 0: \n",
    "  if remainder >= 5: \n",
    "# Return x multiplied by the (whole_number+1) to round up\n",
    "    return x*(whole_number+1)\n",
    "# Else, return x multiplied by the whole_number to round down\n",
    "  return x*whole_number\n",
    " \n",
    "# Calls the function with the parameter value of 35.\n",
    "print(round_up(35)) # Should print 40"
   ]
  },
  {
   "cell_type": "markdown",
   "id": "51dd7518-f1fd-42d2-9d81-9785893c18ec",
   "metadata": {},
   "source": [
    "If a filesystem has a block size of 4096 bytes, this means that a file comprised of only one byte will still use 4096 bytes of storage. A file made up of 4097 bytes will use 4096*2=8192 bytes of storage. Knowing this, can you fill in the gaps in the calculate_storage function below, which calculates the total number of bytes needed to store a file of a given size?\n",
    "\n",
    "Answer:\n",
    "This calculate_storage function takes the filesize as input, calculates how many full blocks are needed to store the file using floor division (//), checks if there's a partial block remainder using the modulo operator (%), and then returns the appropriate total number of bytes required to allocate enough blocks to store the data. The results should match your expectations."
   ]
  },
  {
   "cell_type": "code",
   "execution_count": 19,
   "id": "95a04cc9-03cd-420b-b220-dd7d0e6ec096",
   "metadata": {},
   "outputs": [
    {
     "name": "stdout",
     "output_type": "stream",
     "text": [
      "The full_blocks value is: 0\n",
      "The partial_block_remainder value is: 1\n",
      "4096\n",
      "The full_blocks value is: 1\n",
      "The partial_block_remainder value is: 0\n",
      "4096\n",
      "The full_blocks value is: 1\n",
      "The partial_block_remainder value is: 1\n",
      "8192\n",
      "The full_blocks value is: 1\n",
      "The partial_block_remainder value is: 1904\n",
      "8192\n"
     ]
    }
   ],
   "source": [
    "def calculate_storage(filesize):\n",
    "    block_size = 4096\n",
    "    # Use floor division to calculate how many blocks are fully occupied\n",
    "    full_blocks = filesize // block_size\n",
    "    print(\"The full_blocks value is: \" + str(full_blocks))\n",
    "    # Use the modulo operator to check whether there's any remainder\n",
    "    partial_block_remainder = filesize % block_size\n",
    "    print(\"The partial_block_remainder value is: \" + str(partial_block_remainder))\n",
    "    # Depending on whether there's a remainder or not, return\n",
    "    # the total number of bytes required to allocate enough blocks\n",
    "    # to store your data.\n",
    "    if partial_block_remainder > 0:\n",
    "        return (full_blocks + 1) * block_size\n",
    "    return full_blocks * block_size\n",
    "\n",
    "print(calculate_storage(1))    # Should be 4096\n",
    "print(calculate_storage(4096)) # Should be 4096\n",
    "print(calculate_storage(4097)) # Should be 8192\n",
    "print(calculate_storage(6000)) # Should be 8192\n"
   ]
  },
  {
   "cell_type": "code",
   "execution_count": 20,
   "id": "7af5b550-9f8b-4d5b-9aeb-f7069844dd87",
   "metadata": {},
   "outputs": [
    {
     "name": "stdout",
     "output_type": "stream",
     "text": [
      "False\n",
      "True\n"
     ]
    }
   ],
   "source": [
    "print(len(\"A dog\") > len(\"A mouse\"))\n",
    "print(9999+8888 > 100*100)"
   ]
  },
  {
   "cell_type": "code",
   "execution_count": 22,
   "id": "2b2c1522-eb61-40b1-b986-64544fa5c2c1",
   "metadata": {},
   "outputs": [
    {
     "name": "stdout",
     "output_type": "stream",
     "text": [
      "Not there yet, x=0\n",
      "Not there yet, x=1\n",
      "Not there yet, x=2\n",
      "Not there yet, x=3\n",
      "Not there yet, x=4\n"
     ]
    }
   ],
   "source": [
    "x = 0\n",
    "while x < 5:\n",
    "  print(\"Not there yet, x=\" + str(x))\n",
    "  x = x + 1\n",
    "#print(\"x=\" + str(x))"
   ]
  },
  {
   "cell_type": "code",
   "execution_count": 23,
   "id": "ed2a992d-7c3d-4a8b-b1c6-a2501305bee2",
   "metadata": {},
   "outputs": [
    {
     "name": "stdout",
     "output_type": "stream",
     "text": [
      "Attempt 1\n",
      "Attempt 2\n",
      "Attempt 3\n",
      "Attempt 4\n",
      "Attempt 5\n",
      "Done\n"
     ]
    }
   ],
   "source": [
    "def attempts(n):\n",
    "    x = 1\n",
    "    while x <= n:\n",
    "        print(\"Attempt \" + str(x))\n",
    "        x += 1\n",
    "    print(\"Done\")\n",
    "    \n",
    "attempts(5)"
   ]
  },
  {
   "cell_type": "code",
   "execution_count": 24,
   "id": "d071430f-c1cc-4f2a-8e2c-027733442d50",
   "metadata": {},
   "outputs": [
    {
     "name": "stdout",
     "output_type": "stream",
     "text": [
      "3\n",
      "2\n",
      "1\n",
      "Zero!\n"
     ]
    }
   ],
   "source": [
    "def count_down(start_number):\n",
    "  current = start_number\n",
    "  while (current > 0):\n",
    "    print(current)\n",
    "    current -= 1\n",
    "  print(\"Zero!\")\n",
    "\n",
    "count_down(3)"
   ]
  },
  {
   "cell_type": "code",
   "execution_count": 1,
   "id": "b3682838-1707-40ff-84f5-1ba84a90ce02",
   "metadata": {},
   "outputs": [
    {
     "name": "stdout",
     "output_type": "stream",
     "text": [
      "1\n",
      "2\n",
      "3\n",
      "4\n",
      "5\n"
     ]
    }
   ],
   "source": [
    "def print_range(start, end):\n",
    "    # Loop through the numbers from start to end\n",
    "    n = start\n",
    "    while n <= end:\n",
    "        print(n)\n",
    "        n += 1  # TO PREVENT INFINITE LOOP. Increment n by 1 in each iteration. \n",
    "        \n",
    "print_range(1, 5)"
   ]
  },
  {
   "cell_type": "code",
   "execution_count": 2,
   "id": "7d5902cb-5ccf-4c01-a0de-76ec4048dfb7",
   "metadata": {},
   "outputs": [
    {
     "name": "stdout",
     "output_type": "stream",
     "text": [
      "5 + 1 = 6\n",
      "5 + 2 = 7\n",
      "5 + 3 = 8\n",
      "5 + 4 = 9\n",
      "5 + 5 = 10\n",
      "17 + 1 = 18\n",
      "17 + 2 = 19\n",
      "17 + 3 = 20\n"
     ]
    }
   ],
   "source": [
    "# This function outputs an addition table. It is written to end after\n",
    "# printing 5 lines of the addition table, but it will break out of the\n",
    "# loop if the \"my_sum\" variable exceeds 20. \n",
    " \n",
    "# The function accepts a \"given_number\" variable through its \n",
    "# parameters.\n",
    "def addition_table(given_number):\n",
    " \n",
    "    # The \"iterated_number\" and \"my_sum\" variables are initialized with\n",
    "    # the value of 1. Although the \"my_sum\" variable does not need any\n",
    "    # specific initial value, it still must be assigned a data type\n",
    "    # before being used in the while loop. By initializing \"my_sum\"\n",
    "    # with any integer, the data type will be set to int.\n",
    "    iterated_number = 1\n",
    "    my_sum = 1\n",
    " \n",
    "    # The while loop will run while it is True that the   \n",
    "    # \"iterated_number\" is less than or equal to 5.\n",
    "    while iterated_number <= 5:\n",
    " \n",
    "        # The \"my_sum\" variable is assigned the value of the\n",
    "        # \"given_number\" plus the \"iterated_number\" variables.\n",
    "        my_sum = given_number + iterated_number\n",
    " \n",
    "        # Test to see if the \"my_sum\" variable is greater than 20.\n",
    "        if my_sum > 20:\n",
    "            # If True, then use the break keyword to exit the loop. \n",
    "            break\n",
    "        # If False, the Python interpreter will move to the next line \n",
    "        # in the while loop after the if-statement has ended.  \n",
    " \n",
    "        # The print function will output the \"given_number\" plus\n",
    "        # the \"iterated_number\" equals \"my_sum\".\n",
    "        print(str(given_number), \"+\", str(iterated_number), \"=\", str(my_sum))\n",
    " \n",
    "        # Increment the \"iterated_number\" before the while loop starts\n",
    "        # over again to print a new \"my_sum\" value.\n",
    "        iterated_number += 1\n",
    " \n",
    " \n",
    "addition_table(5)\n",
    "addition_table(17)\n",
    "addition_table(30)"
   ]
  },
  {
   "cell_type": "code",
   "execution_count": 3,
   "id": "6e010c35-8700-4acc-820d-6d5e00c48bc3",
   "metadata": {},
   "outputs": [
    {
     "name": "stdout",
     "output_type": "stream",
     "text": [
      "0\n",
      "2\n",
      "4\n",
      "8\n"
     ]
    }
   ],
   "source": [
    "# This function counts the number of integer factors for a \n",
    "# \"given_number\" variable, passed through the function’s parameters.\n",
    "# The \"count\" return value includes the \"given_number\" itself as a \n",
    "# factor (n*1). \n",
    "def count_factors(given_number):\n",
    " \n",
    "  # To include the \"given_number\" variable as a \"factor\", initialize\n",
    "  # the \"factor\" variable with the value 1 (if the \"factor\" variable\n",
    "  # were to start at 2, the \"given_number\" itself would be excluded). \n",
    "  factor = 1\n",
    "  count = 1\n",
    " \n",
    "  # This \"if\" block will run if the \"given_number\" equals 0.\n",
    "  if given_number == 0:\n",
    "    # If True, the return value will be 0 factors. \n",
    "    return 0\n",
    " \n",
    "  # The while loop will run while the \"factor\" is still less than\n",
    "  # the \"given_number\" variable.\n",
    "  while factor < given_number:\n",
    "    # This \"if\" block checks if the \"given_number\" can be divided by\n",
    "    # the \"factor\" variable without leaving a remainder. The modulo\n",
    "    # operator % is used to test for a remainder.\n",
    "    if given_number % factor == 0:\n",
    "      # If True, then the \"factor\" variable is added to the count of\n",
    "      # the \"given_number\"’s integer factors.\n",
    "      count += 1\n",
    "    # When exiting the if block, increment the \"factor\" variable by 1\n",
    "    # to divide the \"given_number\" variable by a new \"factor\" value\n",
    "    # inside the while loop.\n",
    "    factor += 1\n",
    " \n",
    "  # When the interpreter exits either the while loop or the top if\n",
    "  # block, it will return the value of the \"count\" variable.\n",
    "  return count\n",
    " \n",
    "print(count_factors(0)) # Count value will be 0\n",
    "print(count_factors(3)) # Should count 2 factors (1x3)\n",
    "print(count_factors(10)) # Should count 4 factors (1x10, 2x5)\n",
    "print(count_factors(24)) # Should count 8 factors (1x24, 2x12, 3x8, and 4x6). "
   ]
  },
  {
   "cell_type": "markdown",
   "id": "1857f01b-037d-4f3c-82dc-f74f81dc3cda",
   "metadata": {},
   "source": [
    "Fix the infinite loop, def is_power_of_two(number):\n",
    "  # This while loop checks if the \"number\" can be divided by two\n",
    "  # without leaving a remainder. How can you change the while loop to\n",
    "  # avoid a Python ZeroDivisionError?\n",
    "  while number % 2 == 0:\n",
    "    number = number / 2\n",
    "  # If after dividing by 2 \"number\" equals 1, then \"number\" is a power\n",
    "  # of 2.\n",
    "  if number == 1:\n",
    "    return True\n",
    "  return False\n",
    "  \n",
    "\n",
    "# Calls to the function\n",
    "print(is_power_of_two(0)) # Should be False\n",
    "print(is_power_of_two(1)) # Should be True\n",
    "print(is_power_of_two(8)) # Should be True\n",
    "print(is_power_of_two(9)) # Should be False"
   ]
  },
  {
   "cell_type": "code",
   "execution_count": 4,
   "id": "c01bc091-3b98-4105-a40f-53adbfc9ec0a",
   "metadata": {},
   "outputs": [
    {
     "name": "stdout",
     "output_type": "stream",
     "text": [
      "False\n",
      "True\n",
      "True\n",
      "False\n"
     ]
    }
   ],
   "source": [
    "def is_power_of_two(number):\n",
    "    # Special case: 0 is not a power of 2\n",
    "    if number == 0:\n",
    "        return False\n",
    "\n",
    "    # This while loop checks if the \"number\" can be divided by two\n",
    "    # without leaving a remainder. How can you change the while loop to\n",
    "    # avoid a Python ZeroDivisionError?\n",
    "    while number % 2 == 0 and number != 0:\n",
    "        number = number // 2  # Integer division to avoid float values\n",
    "\n",
    "    # If after dividing by 2 \"number\" equals 1, then \"number\" is a power\n",
    "    # of 2.\n",
    "    if number == 1:\n",
    "        return True\n",
    "    return False\n",
    "\n",
    "# Calls to the function\n",
    "print(is_power_of_two(0)) # Should be False\n",
    "print(is_power_of_two(1)) # Should be True\n",
    "print(is_power_of_two(8)) # Should be True\n",
    "print(is_power_of_two(9)) # Should be False\n"
   ]
  },
  {
   "cell_type": "markdown",
   "id": "c2caf69f-c9aa-46b4-9f02-fb148a255c99",
   "metadata": {},
   "source": [
    "# Fill in the blanks so that the while loop continues to run while the\n",
    "# \"divisor\" variable is less than the \"number\" parameter.\n",
    "\n",
    "def sum_divisors(number):\n",
    "# Initialize the appropriate variables\n",
    "  ___ = ___\n",
    "  ___ = ___\n",
    "\n",
    "  # Avoid dividing by 0 and negative numbers \n",
    "  # in the while loop by exiting the function\n",
    "  # if \"number\" is less than one\n",
    "  if number < 1:\n",
    "    return 0 \n",
    "\n",
    "  # Complete the while loop\n",
    "  while ___:\n",
    "    if number % divisor == 0:\n",
    "      total += divisor\n",
    "    # Increment the correct variable\n",
    "    ___ += 1\n",
    "\n",
    "  # Return the correct variable \n",
    "  return ___\n",
    "\n",
    "\n",
    "print(sum_divisors(0)) # Should print 0\n",
    "print(sum_divisors(3)) # Should print 1\n",
    "# 1\n",
    "print(sum_divisors(36)) # Should print 1+2+3+4+6+9+12+18\n",
    "# 55\n",
    "print(sum_divisors(102)) # Should print 1+2+3+6+17+34+51\n",
    "# 114"
   ]
  },
  {
   "cell_type": "code",
   "execution_count": 5,
   "id": "73caafec-d3fd-4539-b17d-9f27931076d4",
   "metadata": {},
   "outputs": [
    {
     "name": "stdout",
     "output_type": "stream",
     "text": [
      "0\n",
      "1\n",
      "55\n",
      "114\n"
     ]
    }
   ],
   "source": [
    "def sum_divisors(number):\n",
    "    # Initialize the appropriate variables\n",
    "    divisor = 1\n",
    "    total = 0\n",
    "\n",
    "    # Avoid dividing by 0 and negative numbers \n",
    "    # in the while loop by exiting the function\n",
    "    # if \"number\" is less than one\n",
    "    if number < 1:\n",
    "        return 0 \n",
    "\n",
    "    # Complete the while loop\n",
    "    while divisor < number:\n",
    "        if number % divisor == 0:\n",
    "            total += divisor\n",
    "        # Increment the correct variable\n",
    "        divisor += 1\n",
    "\n",
    "    # Return the correct variable \n",
    "    return total\n",
    "\n",
    "print(sum_divisors(0))  # Should print 0\n",
    "print(sum_divisors(3))  # Should print 1 (1)\n",
    "print(sum_divisors(36)) # Should print 1+2+3+4+6+9+12+18 (55)\n",
    "print(sum_divisors(102))# Should print 1+2+3+6+17+34+51 (114)\n"
   ]
  },
  {
   "cell_type": "markdown",
   "id": "ece24e76-438b-4152-ae51-c5731de62a92",
   "metadata": {},
   "source": [
    "def multiplication_table(number):\n",
    "    # Initialize the appropriate variable\n",
    "    ___ = ___\n",
    "\n",
    "    # Complete the while loop condition.\n",
    "    while ___:\n",
    "        result = number * multiplier \n",
    "        if  result > 25 :\n",
    "            # Enter the action to take if the result is greater than 25\n",
    "            ___\n",
    "        print(str(number) + \"x\" + str(multiplier) + \"=\" + str(result))\n",
    "        \n",
    "        # Increment the appropriate variable\n",
    "        ___ += 1\n",
    "\n",
    "\n",
    "multiplication_table(3) \n",
    "# Should print: \n",
    "# 3x1=3 \n",
    "# 3x2=6 \n",
    "# 3x3=9 \n",
    "# 3x4=12 \n",
    "# 3x5=15\n",
    "\n",
    "multiplication_table(5) \n",
    "# Should print: \n",
    "# 5x1=5\n",
    "# 5x2=10\n",
    "# 5x3=15\n",
    "# 5x4=20\n",
    "# 5x5=25\n",
    "\n",
    "multiplication_table(8) \n",
    "# Should print:\n",
    "# 8x1=8\n",
    "# 8x2=16\n",
    "# 8x3=24"
   ]
  },
  {
   "cell_type": "code",
   "execution_count": 6,
   "id": "bbcfd0a6-015c-48b2-8aff-21bdea53f165",
   "metadata": {},
   "outputs": [
    {
     "name": "stdout",
     "output_type": "stream",
     "text": [
      "3x1=3\n",
      "3x2=6\n",
      "3x3=9\n",
      "3x4=12\n",
      "3x5=15\n",
      "5x1=5\n",
      "5x2=10\n",
      "5x3=15\n",
      "5x4=20\n",
      "5x5=25\n",
      "8x1=8\n",
      "8x2=16\n",
      "8x3=24\n"
     ]
    }
   ],
   "source": [
    "def multiplication_table(number):\n",
    "    # Initialize the appropriate variable\n",
    "    multiplier = 1\n",
    "\n",
    "    # Complete the while loop condition.\n",
    "    while multiplier <= 5:  # You mentioned that the table should go up to 5\n",
    "        result = number * multiplier \n",
    "        if result > 25:\n",
    "            # Enter the action to take if the result is greater than 25\n",
    "            break  # Break the loop when the result is greater than 25\n",
    "        print(str(number) + \"x\" + str(multiplier) + \"=\" + str(result))\n",
    "        \n",
    "        # Increment the appropriate variable\n",
    "        multiplier += 1\n",
    "\n",
    "multiplication_table(3) \n",
    "# Should print: \n",
    "# 3x1=3 \n",
    "# 3x2=6 \n",
    "# 3x3=9 \n",
    "# 3x4=12 \n",
    "# 3x5=15\n",
    "\n",
    "multiplication_table(5) \n",
    "# Should print: \n",
    "# 5x1=5\n",
    "# 5x2=10\n",
    "# 5x3=15\n",
    "# 5x4=20\n",
    "# 5x5=25\n",
    "\n",
    "multiplication_table(8) \n",
    "# Should print:\n",
    "# 8x1=8\n",
    "# 8x2=16\n",
    "# 8x3=24\n"
   ]
  },
  {
   "cell_type": "code",
   "execution_count": 8,
   "id": "e3f11a6b-ba80-4a12-bb57-a000c92b02fd",
   "metadata": {},
   "outputs": [
    {
     "name": "stdout",
     "output_type": "stream",
     "text": [
      "0 -17.77777777777778\n",
      "10 -12.222222222222221\n",
      "20 -6.666666666666667\n",
      "30 -1.1111111111111112\n",
      "40 4.444444444444445\n",
      "50 10.0\n",
      "60 15.555555555555555\n",
      "70 21.11111111111111\n",
      "80 26.666666666666668\n",
      "90 32.22222222222222\n",
      "100 37.77777777777778\n"
     ]
    }
   ],
   "source": [
    "def to_celsius(x):\n",
    "    return (x-32)*5/9\n",
    "\n",
    "for x in range(0,101,10):\n",
    "    print(x, to_celsius(x))"
   ]
  },
  {
   "cell_type": "code",
   "execution_count": 11,
   "id": "b23d0c8e-4b85-46eb-90b5-9406e4605749",
   "metadata": {},
   "outputs": [
    {
     "name": "stdout",
     "output_type": "stream",
     "text": [
      "[0|0] [0|1] [0|2] [0|3] [0|4] [0|5] [0|6] \n",
      "[1|1] [1|2] [1|3] [1|4] [1|5] [1|6] \n",
      "[2|2] [2|3] [2|4] [2|5] [2|6] \n",
      "[3|3] [3|4] [3|5] [3|6] \n",
      "[4|4] [4|5] [4|6] \n",
      "[5|5] [5|6] \n",
      "[6|6] \n"
     ]
    }
   ],
   "source": [
    "#Lets print the Domino Tiles\n",
    "\n",
    "for left in range(7):\n",
    "    for right in range(left, 7):\n",
    "        print(\"[\" + str(left) + \"|\" + str(right) + \"]\" , end=\" \")\n",
    "    print()"
   ]
  },
  {
   "cell_type": "code",
   "execution_count": 13,
   "id": "edcb80d1-cbd1-480f-b5d1-8595ceda89c6",
   "metadata": {},
   "outputs": [
    {
     "name": "stdout",
     "output_type": "stream",
     "text": [
      "Dragons vs Wolves\n",
      "Dragons vs Pandas\n",
      "Dragons vs Unicorns\n",
      "Dragons vs Tigers\n",
      "Wolves vs Dragons\n",
      "Wolves vs Pandas\n",
      "Wolves vs Unicorns\n",
      "Wolves vs Tigers\n",
      "Pandas vs Dragons\n",
      "Pandas vs Wolves\n",
      "Pandas vs Unicorns\n",
      "Pandas vs Tigers\n",
      "Unicorns vs Dragons\n",
      "Unicorns vs Wolves\n",
      "Unicorns vs Pandas\n",
      "Unicorns vs Tigers\n",
      "Tigers vs Dragons\n",
      "Tigers vs Wolves\n",
      "Tigers vs Pandas\n",
      "Tigers vs Unicorns\n"
     ]
    }
   ],
   "source": [
    "# Pairing Teams\n",
    "\n",
    "teams = [ 'Dragons', 'Wolves', 'Pandas', 'Unicorns', 'Tigers']\n",
    "for home_team in teams:\n",
    "    for away_team in teams:\n",
    "        if home_team != away_team:\n",
    "            print(home_team + \" vs \" + away_team)"
   ]
  },
  {
   "cell_type": "code",
   "execution_count": 18,
   "id": "73ccd18d-8d88-47f8-ae3e-22de94782609",
   "metadata": {},
   "outputs": [
    {
     "name": "stdout",
     "output_type": "stream",
     "text": [
      "Dragons vs Wolves\n",
      "Dragons vs Pandas\n",
      "Dragons vs Unicorns\n",
      "Dragons vs Tigers\n",
      "Wolves vs Pandas\n",
      "Wolves vs Unicorns\n",
      "Wolves vs Tigers\n",
      "Pandas vs Unicorns\n",
      "Pandas vs Tigers\n",
      "Unicorns vs Tigers\n"
     ]
    }
   ],
   "source": [
    "# Pairing Teams. Avoiding redundant teams.\n",
    "\n",
    "# In this modified version, instead of directly iterating over the teams twice and checking for inequality, \n",
    "# it uses nested loops with indices. The outer loop iterates over the indices of the teams list, \n",
    "# and the inner loop iterates over the indices starting from one position ahead of the current outer loop index. \n",
    "# This ensures that each pair of teams is only printed once and avoids redundant pairings.\n",
    "\n",
    "teams = ['Dragons', 'Wolves', 'Pandas', 'Unicorns', 'Tigers']\n",
    "for i in range(len(teams)):\n",
    "    for j in range(i + 1, len(teams)):\n",
    "        home_team = teams[i]\n",
    "        away_team = teams[j]\n",
    "        print(home_team + \" vs \" + away_team)"
   ]
  },
  {
   "cell_type": "code",
   "execution_count": 23,
   "id": "fd36d5b5-6a32-4e03-a6e2-8f25a4f4b6f7",
   "metadata": {},
   "outputs": [
    {
     "name": "stdin",
     "output_type": "stream",
     "text": [
      "Enter the number of teams:  3\n",
      "Enter the name of a team:  Tigers\n",
      "Enter the name of a team:  Lions\n",
      "Enter the name of a team:  Chettahs\n"
     ]
    },
    {
     "name": "stdout",
     "output_type": "stream",
     "text": [
      "Tigers vs Lions\n",
      "Tigers vs Chettahs\n",
      "Lions vs Chettahs\n"
     ]
    }
   ],
   "source": [
    "num_teams = int(input(\"Enter the number of teams: \"))\n",
    "teams = []\n",
    "\n",
    "for _ in range(num_teams):\n",
    "    team_name = input(\"Enter the name of a team: \")\n",
    "    teams.append(team_name)\n",
    "\n",
    "for i in range(len(teams)):\n",
    "    for j in range(i + 1, len(teams)):\n",
    "        home_team = teams[i]\n",
    "        away_team = teams[j]\n",
    "        print(home_team + \" vs \" + away_team)\n"
   ]
  },
  {
   "cell_type": "code",
   "execution_count": 24,
   "id": "d7b7de55-30b2-4438-8b55-fd5917fe4dc6",
   "metadata": {},
   "outputs": [
    {
     "name": "stdout",
     "output_type": "stream",
     "text": [
      "This is the outer loop iteration number 0\n",
      "Inner loop iteration number 0\n",
      "Inner loop iteration number 1\n",
      "Inner loop iteration number 2\n",
      "Inner loop iteration number 3\n",
      "Exit inner loop\n",
      "This is the outer loop iteration number 1\n",
      "Inner loop iteration number 0\n",
      "Inner loop iteration number 1\n",
      "Inner loop iteration number 2\n",
      "Inner loop iteration number 3\n",
      "Exit inner loop\n"
     ]
    }
   ],
   "source": [
    "# This code demonstrates the outer and inner loop iterations of a pair \n",
    "# of nested for loops. Click \"Run\" to see the results. The outer loop\n",
    "# will run twice for the range pointer positions [0, 1] in range(2).\n",
    "# The inner loop will run 4 times for the range pointer positions \n",
    "# [0, 1, 2, 3] in range(3+1) or range(4) each time the outer loop runs.\n",
    "# So, the inner loop will execute 8 times in total.\n",
    "\n",
    "\n",
    "for x in range(2):\n",
    "    print(\"This is the outer loop iteration number \" + str(x))\n",
    "    for y in range(3+1):\n",
    "        print(\"Inner loop iteration number \" + str(y))\n",
    "    print(\"Exit inner loop\") "
   ]
  },
  {
   "cell_type": "code",
   "execution_count": 26,
   "id": "ba26a571-5338-4e88-bbdf-0dfb582494fd",
   "metadata": {},
   "outputs": [
    {
     "name": "stdout",
     "output_type": "stream",
     "text": [
      "0\n",
      "2\n",
      "4\n",
      "6\n"
     ]
    }
   ],
   "source": [
    "# This for loop iterates through the numbers 0 to 6. The if statement\n",
    "# uses the modulo operator to test if the \"x\" variable is divisible by\n",
    "# 2. If True, the if statement will print the value of \"x\" and exit\n",
    "# back into the for loop for the next iteration of \"x\". Since no \n",
    "# incremental value is specified in the range() parameters, the default\n",
    "# increment is +1. \n",
    "\n",
    "\n",
    "for x in range(7):\n",
    "    if x % 2 == 0:\n",
    "        print(x)\n",
    "\n",
    "\n",
    "# The loop should print 0, 2, 4, 6"
   ]
  },
  {
   "cell_type": "code",
   "execution_count": 28,
   "id": "f56e008d-62ae-45fc-a49f-db0cc8a35e70",
   "metadata": {},
   "outputs": [
    {
     "name": "stdout",
     "output_type": "stream",
     "text": [
      "12\n",
      "18\n",
      "24\n",
      "30\n",
      "36\n"
     ]
    }
   ],
   "source": [
    "for n in range(6,18+1,3):\n",
    "    print(n*2)"
   ]
  },
  {
   "cell_type": "code",
   "execution_count": 29,
   "id": "2306f4ff-c540-4788-bf9f-d69cecc25c80",
   "metadata": {},
   "outputs": [
    {
     "name": "stdout",
     "output_type": "stream",
     "text": [
      "0\n",
      "2\n",
      "4\n",
      "6\n",
      "8\n",
      "10\n",
      "12\n",
      "14\n",
      "16\n",
      "18\n"
     ]
    }
   ],
   "source": [
    "for n in range(19):\n",
    "    if n % 2 == 0:\n",
    "        print(n)"
   ]
  },
  {
   "cell_type": "code",
   "execution_count": 31,
   "id": "1230eccd-d98a-43a0-bc5b-4616b874a8b4",
   "metadata": {},
   "outputs": [
    {
     "name": "stdout",
     "output_type": "stream",
     "text": [
      "0\n",
      "1\n",
      "4\n",
      "9\n",
      "16\n",
      "25\n",
      "36\n",
      "49\n",
      "64\n",
      "81\n",
      "100\n",
      "121\n",
      "144\n",
      "169\n",
      "196\n",
      "225\n",
      "256\n",
      "289\n",
      "324\n"
     ]
    }
   ],
   "source": [
    "for n in range(18+1):\n",
    "    print(n**2)"
   ]
  },
  {
   "cell_type": "code",
   "execution_count": 48,
   "id": "b0404353-3564-44f7-b553-7ae54ee8b739",
   "metadata": {},
   "outputs": [
    {
     "name": "stdout",
     "output_type": "stream",
     "text": [
      "Factorial called with 5\n",
      "Factorial called with 4\n",
      "Factorial called with 3\n",
      "Factorial called with 2\n",
      "Factorial called with 1\n",
      "Returning 1\n",
      "Returning 2 for factorial of 2\n",
      "Returning 6 for factorial of 3\n",
      "Returning 24 for factorial of 4\n",
      "Returning 120 for factorial of 5\n"
     ]
    },
    {
     "data": {
      "text/plain": [
       "120"
      ]
     },
     "execution_count": 48,
     "metadata": {},
     "output_type": "execute_result"
    }
   ],
   "source": [
    "# Recursion is the repeated application of the same procedure to a smaller problem. \n",
    "\n",
    "# Have you ever played with a Russian nesting doll? They are a great visual example of recursion. \n",
    "# Each doll has a smaller doll inside it. When you open up the doll to find the smaller one inside, \n",
    "# you keep going until you reach the smallest doll which can't be opened. \n",
    "# Recursion lets us tackle complex problems by reducing the problem to a simpler one. \n",
    "# Take our Russian nesting dolls, all nested inside each other. Imagine we want to find out how many dolls there are in total. \n",
    "# We would need to open each doll one by one until we got to the last one and then count how many dolls we've opened. \n",
    "# That's recursion in action!!!\n",
    "\n",
    "#A recursive function will usually have this structure:\n",
    "    \n",
    "# def recursive_function(parameters):\n",
    "#    if base_case_condition(parameters):\n",
    "#        return base_case_value\n",
    "#    recursive_function(modified_parameters)\n",
    "\n",
    "def factorial(n):\n",
    "    print(\"Factorial called with \" + str(n))\n",
    "    if n < 2:\n",
    "        print(\"Returning 1\")\n",
    "        return 1\n",
    "    result = n * factorial(n-1)\n",
    "    \n",
    "    print(\"Returning \" + str(result) + \" for factorial of \" + str(n))\n",
    "    return result\n",
    "factorial(5)"
   ]
  },
  {
   "cell_type": "code",
   "execution_count": 36,
   "id": "e0f13ee9-4f65-471f-8653-ea4956070ebe",
   "metadata": {},
   "outputs": [
    {
     "name": "stdout",
     "output_type": "stream",
     "text": [
      "6\n",
      "15\n"
     ]
    }
   ],
   "source": [
    "def sum_positive_numbers(n):\n",
    "    # The base case is n being smaller than 1\n",
    "    if n < 1:\n",
    "        return 0\n",
    "\n",
    "    # The recursive case is adding this number to \n",
    "    # the sum of the numbers smaller than this one.\n",
    "    return n + sum_positive_numbers(n - 1)\n",
    "\n",
    "print(sum_positive_numbers(3)) # Should be 6\n",
    "print(sum_positive_numbers(5)) # Should be 15\n"
   ]
  },
  {
   "cell_type": "code",
   "execution_count": 41,
   "id": "7c64d923-0cdf-4c6e-959c-27a8014ef74f",
   "metadata": {},
   "outputs": [
    {
     "name": "stdout",
     "output_type": "stream",
     "text": [
      "John (1970)\n",
      "    Alice (1995)\n",
      "        Eve (2020)\n",
      "    Bob (1998)\n"
     ]
    }
   ],
   "source": [
    "def display_family_tree(person, generation=0):\n",
    "    indentation = \"    \" * generation\n",
    "    print(f\"{indentation}{person['name']} ({person['birth_year']})\")\n",
    "    \n",
    "    if \"children\" in person:\n",
    "        for child in person[\"children\"]:\n",
    "            display_family_tree(child, generation + 1)\n",
    "\n",
    "# Define family members using dictionaries\n",
    "family_tree = {\n",
    "    \"name\": \"John\",\n",
    "    \"birth_year\": 1970,\n",
    "    \"children\": [\n",
    "        {\n",
    "            \"name\": \"Alice\",\n",
    "            \"birth_year\": 1995,\n",
    "            \"children\": [\n",
    "                {\n",
    "                    \"name\": \"Eve\",\n",
    "                    \"birth_year\": 2020\n",
    "                }\n",
    "            ]\n",
    "        },\n",
    "        {\n",
    "            \"name\": \"Bob\",\n",
    "            \"birth_year\": 1998\n",
    "        }\n",
    "    ]\n",
    "}\n",
    "\n",
    "# Display the family tree\n",
    "display_family_tree(family_tree)\n"
   ]
  },
  {
   "cell_type": "code",
   "execution_count": 42,
   "id": "af915c27-8ca2-4758-a401-840e2c079ccd",
   "metadata": {},
   "outputs": [
    {
     "name": "stdout",
     "output_type": "stream",
     "text": [
      "Family Tree:\n",
      "====================\n",
      "Name: John\n",
      "Birth Year: 1950\n",
      "Children: Alice, Bob\n",
      "--------------------\n",
      "Name: Jane\n",
      "Birth Year: 1955\n",
      "Children: Alice, Bob\n",
      "--------------------\n",
      "Name: Alice\n",
      "Birth Year: 1975\n",
      "Children: \n",
      "--------------------\n",
      "Name: Bob\n",
      "Birth Year: 1980\n",
      "Children: \n",
      "--------------------\n"
     ]
    }
   ],
   "source": [
    "# Function to display a person's information\n",
    "def display_person(person):\n",
    "    print(f\"Name: {person['name']}\")\n",
    "    print(f\"Birth Year: {person['birth_year']}\")\n",
    "    print(f\"Children: {', '.join(person['children'])}\")\n",
    "    print(\"-\" * 20)\n",
    "\n",
    "# Define family members using dictionaries\n",
    "person_a = {\n",
    "    \"name\": \"John\",\n",
    "    \"birth_year\": 1950,\n",
    "    \"children\": [\"Alice\", \"Bob\"]\n",
    "}\n",
    "\n",
    "person_b = {\n",
    "    \"name\": \"Jane\",\n",
    "    \"birth_year\": 1955,\n",
    "    \"children\": [\"Alice\", \"Bob\"]\n",
    "}\n",
    "\n",
    "person_c = {\n",
    "    \"name\": \"Alice\",\n",
    "    \"birth_year\": 1975,\n",
    "    \"children\": []\n",
    "}\n",
    "\n",
    "person_d = {\n",
    "    \"name\": \"Bob\",\n",
    "    \"birth_year\": 1980,\n",
    "    \"children\": []\n",
    "}\n",
    "\n",
    "# Associate children with parents\n",
    "person_a[\"children\"] = [person_c[\"name\"], person_d[\"name\"]]\n",
    "person_b[\"children\"] = [person_c[\"name\"], person_d[\"name\"]]\n",
    "\n",
    "# Display family members\n",
    "print(\"Family Tree:\")\n",
    "print(\"=\" * 20)\n",
    "display_person(person_a)\n",
    "display_person(person_b)\n",
    "display_person(person_c)\n",
    "display_person(person_d)\n"
   ]
  },
  {
   "cell_type": "code",
   "execution_count": null,
   "id": "bae268f5-09f5-473a-890b-70028e31c999",
   "metadata": {},
   "outputs": [],
   "source": []
  }
 ],
 "metadata": {
  "kernelspec": {
   "display_name": "Python 3 (ipykernel)",
   "language": "python",
   "name": "python3"
  },
  "language_info": {
   "codemirror_mode": {
    "name": "ipython",
    "version": 3
   },
   "file_extension": ".py",
   "mimetype": "text/x-python",
   "name": "python",
   "nbconvert_exporter": "python",
   "pygments_lexer": "ipython3",
   "version": "3.12.3"
  }
 },
 "nbformat": 4,
 "nbformat_minor": 5
}
