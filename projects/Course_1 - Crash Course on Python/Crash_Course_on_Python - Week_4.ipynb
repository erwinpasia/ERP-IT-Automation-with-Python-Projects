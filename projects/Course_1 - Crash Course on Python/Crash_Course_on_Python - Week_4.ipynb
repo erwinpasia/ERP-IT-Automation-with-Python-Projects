{
 "cells": [
  {
   "cell_type": "code",
   "execution_count": 1,
   "id": "f6d9d8da-aaff-419c-a202-8e862806fc0e",
   "metadata": {},
   "outputs": [
    {
     "name": "stdout",
     "output_type": "stream",
     "text": [
      "20.0\n"
     ]
    }
   ],
   "source": [
    "print(6*2-5/(1+4)+3**2)"
   ]
  },
  {
   "cell_type": "code",
   "execution_count": 3,
   "id": "efb1ef89-e4d3-46d3-8cec-b7ca6abb304e",
   "metadata": {},
   "outputs": [
    {
     "name": "stdout",
     "output_type": "stream",
     "text": [
      "525600\n"
     ]
    }
   ],
   "source": [
    "minutes_in_an_hour = 60\n",
    "hours_in_a_day = 24\n",
    "days_in_a_year = 365\n",
    "\n",
    "minutes_in_a_year = minutes_in_an_hour * hours_in_a_day * days_in_a_year\n",
    "\n",
    "print(minutes_in_a_year)\n"
   ]
  },
  {
   "cell_type": "code",
   "execution_count": 4,
   "id": "734ed558-cc00-4b5b-9341-0266e1ef4718",
   "metadata": {
    "jupyter": {
     "source_hidden": true
    },
    "tags": []
   },
   "outputs": [
    {
     "name": "stdout",
     "output_type": "stream",
     "text": [
      "21\n"
     ]
    }
   ],
   "source": [
    "word = \"supercalifragilisticexpialidocious\"\n",
    "position_of_x = word.index(\"x\")\n",
    "\n",
    "print(position_of_x)\n"
   ]
  },
  {
   "cell_type": "code",
   "execution_count": 1,
   "id": "6efbce8c-8b17-4671-a7fb-ed15833bfa7a",
   "metadata": {},
   "outputs": [
    {
     "name": "stdout",
     "output_type": "stream",
     "text": [
      "5000 seconds is equivalent to:\n",
      "Hours: 1\n",
      "Minutes: 23\n",
      "Seconds: 20\n"
     ]
    }
   ],
   "source": [
    "seconds = 5000\n",
    "\n",
    "hours = seconds // 3600  # 1 hour has 3600 seconds\n",
    "\n",
    "remaining_seconds = seconds % 3600\n",
    "minutes = remaining_seconds // 60  # 1 minute has 60 seconds\n",
    "\n",
    "final_seconds = remaining_seconds % 60\n",
    "\n",
    "print(\"5000 seconds is equivalent to:\")\n",
    "print(\"Hours:\", hours)\n",
    "print(\"Minutes:\", minutes)\n",
    "print(\"Seconds:\", final_seconds)\n"
   ]
  },
  {
   "cell_type": "code",
   "execution_count": 2,
   "id": "b92e9963-1838-4198-bd08-c933a810bbd5",
   "metadata": {},
   "outputs": [
    {
     "name": "stdin",
     "output_type": "stream",
     "text": [
      "Enter the number of seconds:  5000\n"
     ]
    },
    {
     "name": "stdout",
     "output_type": "stream",
     "text": [
      "5000 seconds is equivalent to:\n",
      "Hours: 1\n",
      "Minutes: 23\n",
      "Seconds: 20\n"
     ]
    }
   ],
   "source": [
    "def convert_seconds(seconds):\n",
    "    hours = seconds // 3600\n",
    "    remaining_seconds = seconds % 3600\n",
    "    minutes = remaining_seconds // 60\n",
    "    final_seconds = remaining_seconds % 60\n",
    "    return hours, minutes, final_seconds\n",
    "\n",
    "user_seconds = int(input(\"Enter the number of seconds: \"))\n",
    "hours, minutes, seconds = convert_seconds(user_seconds)\n",
    "\n",
    "print(f\"{user_seconds} seconds is equivalent to:\")\n",
    "print(\"Hours:\", hours)\n",
    "print(\"Minutes:\", minutes)\n",
    "print(\"Seconds:\", seconds)\n"
   ]
  },
  {
   "cell_type": "code",
   "execution_count": 3,
   "id": "b1747405-14f1-4961-9b33-c6098cfd1a7c",
   "metadata": {},
   "outputs": [
    {
     "name": "stdout",
     "output_type": "stream",
     "text": [
      "1 23 20\n"
     ]
    }
   ],
   "source": [
    "print(hours, minutes, seconds)"
   ]
  },
  {
   "cell_type": "code",
   "execution_count": 4,
   "id": "0542932f-b407-4386-ab03-0b7414400e7c",
   "metadata": {},
   "outputs": [
    {
     "name": "stdout",
     "output_type": "stream",
     "text": [
      "17.46\n",
      "0.48\n",
      "1.21\n"
     ]
    }
   ],
   "source": [
    "def file_size(file_info):\n",
    "\tname, file_type, size = file_info\n",
    "\treturn(\"{:.2f}\".format(size/ 1024))\n",
    "\n",
    "print(file_size(('Class Assignment', 'docx', 17875))) # Should print 17.46\n",
    "print(file_size(('Notes', 'txt', 496))) # Should print 0.48\n",
    "print(file_size(('Program', 'py', 1239))) # Should print 1.21"
   ]
  },
  {
   "cell_type": "code",
   "execution_count": 7,
   "id": "7bdbde0d-ef23-4350-8765-8bf2a1794046",
   "metadata": {},
   "outputs": [
    {
     "name": "stdout",
     "output_type": "stream",
     "text": [
      "Total characters: 22, Average length: 5.5\n"
     ]
    }
   ],
   "source": [
    "# Iterating over Lists and Tuples\n",
    "\n",
    "animals = [\"Lion\", \"Zebra\", \"Dolphin\", \"Monkey\"]\n",
    "chars = 0\n",
    "for animal in animals:\n",
    "    chars += len(animal)\n",
    "    \n",
    "print(\"Total characters: {}, Average length: {}\".format(chars, chars/len(animals)))"
   ]
  },
  {
   "cell_type": "code",
   "execution_count": 8,
   "id": "f25b78b5-ebbf-4f62-98a5-102c5d1ed6bc",
   "metadata": {},
   "outputs": [
    {
     "name": "stdout",
     "output_type": "stream",
     "text": [
      "1 - Ashley\n",
      "2 - Dylan\n",
      "3 - Reese\n"
     ]
    }
   ],
   "source": [
    "winners = [\"Ashley\", \"Dylan\", \"Reese\"]\n",
    "for index,person in enumerate(winners):\n",
    "    print(\"{} - {}\".format(index + 1, person))"
   ]
  },
  {
   "cell_type": "code",
   "execution_count": 10,
   "id": "93d5ecbd-aad5-4f3d-9e42-668f44de80d1",
   "metadata": {},
   "outputs": [
    {
     "name": "stdout",
     "output_type": "stream",
     "text": [
      "['Alex Diego <alex@example.com>', 'Shay Brandt <shay@example.com>']\n"
     ]
    }
   ],
   "source": [
    "def full_emails(people):\n",
    "    result = []\n",
    "    for email, name in people:\n",
    "        result.append(\"{} <{}>\".format(name, email))\n",
    "    return result\n",
    "\n",
    "print(full_emails([(\"alex@example.com\", \"Alex Diego\"), (\"shay@example.com\", \"Shay Brandt\")]))\n",
    "\n",
    "# def full_emails(people):: This line defines a function named full_emails that takes a single argument people.\n",
    "# result = []: This initializes an empty list named result, which will be used to store the formatted email strings.\n",
    "# for email, name in people:: This line starts a for loop that iterates through each element in the people list. Each element is a tuple with two values: email and name.\n",
    "# result.append(\"{} <{}>\".format(name, email)): Inside the loop, this line uses the .append() method to add a formatted string to the result list. The string is created using the .format() method, where the name and email are inserted into the placeholders {} in the string.\n",
    "# return result: This line returns the result list containing the formatted email strings.\n",
    "\n",
    "# print(full_emails(...)): This line calls the full_emails function with a list of tuples containing email and name pairs. \n",
    "# The function is executed, and the returned result list is printed using the print() function.\n"
   ]
  },
  {
   "cell_type": "code",
   "execution_count": null,
   "id": "1818e711-3214-47cd-814e-cf9bc437fed9",
   "metadata": {},
   "outputs": [],
   "source": [
    "# Try out the enumerate function for yourself in this quick exercise. \n",
    "# Complete the skip_elements function to return every other element from the list, \n",
    "# this time using the enumerate function to check if an element is in an even position or an odd position.\n",
    "\n",
    "# def skip_elements(elements):\n",
    "#\t# code goes here\n",
    "#\t\n",
    "#\treturn ___\n",
    "#\n",
    "# print(skip_elements([\"a\", \"b\", \"c\", \"d\", \"e\", \"f\", \"g\"])) # Should be ['a', 'c', 'e', 'g']\n",
    "# print(skip_elements(['Orange', 'Pineapple', 'Strawberry', 'Kiwi', 'Peach'])) # Should be ['Orange', 'Strawberry', 'Peach']"
   ]
  },
  {
   "cell_type": "code",
   "execution_count": 17,
   "id": "e52f4ec2-bea6-4e50-b087-5aa2a7a801a3",
   "metadata": {},
   "outputs": [
    {
     "name": "stdout",
     "output_type": "stream",
     "text": [
      "['a', 'c', 'e', 'g']\n",
      "['Orange', 'Strawberry', 'Peach']\n"
     ]
    }
   ],
   "source": [
    "def skip_elements(elements):\n",
    "    return [element for index, element in enumerate(elements) if index % 2 == 0]\n",
    "\n",
    "print(skip_elements([\"a\", \"b\", \"c\", \"d\", \"e\", \"f\", \"g\"])) # Should be ['a', 'c', 'e', 'g']\n",
    "print(skip_elements(['Orange', 'Pineapple', 'Strawberry', 'Kiwi', 'Peach'])) # Should be ['Orange', 'Strawberry', 'Peach']\n",
    "\n",
    "# def skip_elements(elements):: This line defines a function named skip_elements that takes a single argument elements.\n",
    "\n",
    "# return [element for index, element in enumerate(elements) if index % 2 == 0]: \n",
    "# This line uses a list comprehension to create a new list containing elements from the elements list. \n",
    "# It iterates through each element and its corresponding index using the enumerate() function. \n",
    "# It includes only the elements where the index is even (index % 2 == 0).\n",
    "\n",
    "# print(skip_elements(...)): This line calls the skip_elements function with two different lists. \n",
    "# The function is executed, and the returned lists are printed using the print() function."
   ]
  },
  {
   "cell_type": "code",
   "execution_count": 18,
   "id": "35983d2c-f327-4920-a2f6-2ef32a5444a1",
   "metadata": {},
   "outputs": [
    {
     "name": "stdout",
     "output_type": "stream",
     "text": [
      "['a', 'c', 'e', 'g']\n",
      "['Orange', 'Strawberry', 'Peach']\n"
     ]
    }
   ],
   "source": [
    "def skip_elements(elements):\n",
    "    result = []\n",
    "    for index, element in enumerate(elements):\n",
    "        if index % 2 == 0:\n",
    "            result.append(element)\n",
    "    return result\n",
    "\n",
    "print(skip_elements([\"a\", \"b\", \"c\", \"d\", \"e\", \"f\", \"g\"])) # Should be ['a', 'c', 'e', 'g']\n",
    "print(skip_elements(['Orange', 'Pineapple', 'Strawberry', 'Kiwi', 'Peach'])) # Should be ['Orange', 'Strawberry', 'Peach']\n",
    "\n",
    "# In this version:\n",
    "\n",
    "# result = [] initializes an empty list named result.\n",
    "# The for loop iterates through each element and its corresponding index using the enumerate() function.\n",
    "# if index % 2 == 0: checks if the index is even.\n",
    "# result.append(element) appends the element to the result list if the condition is met.\n",
    "\n",
    "# The function returns the result list containing elements with even indices."
   ]
  },
  {
   "cell_type": "code",
   "execution_count": 16,
   "id": "97dba9d8-b7e4-4cb5-b8a5-8b02b8d946f5",
   "metadata": {},
   "outputs": [
    {
     "name": "stdout",
     "output_type": "stream",
     "text": [
      "0 % 2 = 0\n",
      "1 % 2 = 1\n",
      "2 % 2 = 0\n",
      "3 % 2 = 1\n",
      "4 % 2 = 0\n",
      "5 % 2 = 1\n",
      "6 % 2 = 0\n",
      "7 % 2 = 1\n"
     ]
    }
   ],
   "source": [
    "# 0 % 2\n",
    "# 1 % 2\n",
    "# 2 % 2\n",
    "# 3 % 2\n",
    "# 4 % 2\n",
    "# 5 % 2\n",
    "# 6 % 2\n",
    "# 7 % 2\n",
    "\n",
    "numbers = [0, 1, 2, 3, 4, 5, 6, 7]\n",
    "\n",
    "for num in numbers:\n",
    "    result = num % 2\n",
    "    print(f\"{num} % 2 = {result}\")\n"
   ]
  },
  {
   "cell_type": "code",
   "execution_count": 20,
   "id": "632018d7-b0c3-4d26-b21b-3d03c4b9085a",
   "metadata": {},
   "outputs": [
    {
     "name": "stdout",
     "output_type": "stream",
     "text": [
      "[7, 14, 21, 28, 35, 42, 49, 56, 63, 70]\n"
     ]
    }
   ],
   "source": [
    "# List Comprehensions\n",
    "\n",
    "multiples = []\n",
    "for x in range(1,11):\n",
    "    multiples.append(x*7)\n",
    "\n",
    "print(multiples)"
   ]
  },
  {
   "cell_type": "code",
   "execution_count": 21,
   "id": "9246072d-a124-4986-99bc-1a1886ff6395",
   "metadata": {},
   "outputs": [
    {
     "name": "stdout",
     "output_type": "stream",
     "text": [
      "[7, 14, 21, 28, 35, 42, 49, 56, 63, 70]\n"
     ]
    }
   ],
   "source": [
    "multiples = [ x*7 for x in range(1,11)]\n",
    "print(multiples)"
   ]
  },
  {
   "cell_type": "code",
   "execution_count": 25,
   "id": "b168ab69-0463-4698-9229-3f02b509a7eb",
   "metadata": {},
   "outputs": [
    {
     "name": "stdout",
     "output_type": "stream",
     "text": [
      "[1, 3, 5]\n",
      "[1, 3, 5, 7, 9]\n",
      "[1, 3, 5, 7, 9, 11]\n",
      "[1]\n",
      "[]\n"
     ]
    }
   ],
   "source": [
    "def odd_numbers(n):\n",
    "    return [x for x in range(1, n+1) if x % 2 != 0]\n",
    "\n",
    "print(odd_numbers(5))   # Should print [1, 3, 5]\n",
    "print(odd_numbers(10))  # Should print [1, 3, 5, 7, 9]\n",
    "print(odd_numbers(11))  # Should print [1, 3, 5, 7, 9, 11]\n",
    "print(odd_numbers(1))   # Should print [1]\n",
    "print(odd_numbers(-1))  # Should print []"
   ]
  },
  {
   "cell_type": "code",
   "execution_count": 26,
   "id": "a88b0aee-5ec6-4518-bb1f-b03ac1788949",
   "metadata": {},
   "outputs": [
    {
     "name": "stdout",
     "output_type": "stream",
     "text": [
      "List comprehension result:\n",
      "[10, 20, 30, 40, 50, 60, 70, 80, 90, 100]\n",
      "Long form code result:\n",
      "[10, 20, 30, 40, 50, 60, 70, 80, 90, 100]\n"
     ]
    }
   ],
   "source": [
    "### List Comprehension with Conditional Statement\n",
    "print(\"List comprehension result:\")\n",
    "\n",
    "# The following list comprehension compacts multiple lines \n",
    "# of code into one line:\n",
    "print([ x for x in range(1,101) if x % 10 == 0 ])\n",
    "\n",
    "### Long form for loop with nested if-statement\n",
    "print(\"Long form code result:\")\n",
    "\n",
    "# The list comprehension above accomplishes the same result as\n",
    "# the long form version of the code:\n",
    "my_list = []\n",
    "for x in range(1,101):\n",
    "  if x % 10 == 0:\n",
    "    my_list.append(x)\n",
    "print(my_list)\n",
    "\n",
    "\n",
    "# Click Run to observe the two results."
   ]
  },
  {
   "cell_type": "code",
   "execution_count": 27,
   "id": "5ee2ea3f-98f0-4ed6-8b5c-a5fe34641a05",
   "metadata": {},
   "outputs": [
    {
     "name": "stdout",
     "output_type": "stream",
     "text": [
      "[4, 9]\n",
      "[1, 4, 9, 16, 25]\n",
      "[0, 1, 4, 9, 16, 25, 36, 49, 64, 81, 100]\n"
     ]
    }
   ],
   "source": [
    "def squares(start, end):\n",
    "    return [n * n for n in range(start, end + 1)]\n",
    "\n",
    "print(squares(2, 3))  # Should print [4, 9]\n",
    "print(squares(1, 5))  # Should print [1, 4, 9, 16, 25]\n",
    "print(squares(0, 10)) # Should print [0, 1, 4, 9, 16, 25, 36, 49, 64, 81, 100]\n"
   ]
  },
  {
   "cell_type": "code",
   "execution_count": 29,
   "id": "da71ba84-fc56-4f0f-be79-0639f869ab8b",
   "metadata": {},
   "outputs": [
    {
     "name": "stdout",
     "output_type": "stream",
     "text": [
      "['January 2024', 'May 2025', 'April 2024', 'August 2024', 'September 2025', 'December 2024']\n"
     ]
    }
   ],
   "source": [
    "# This block of code changes the year on a list of dates.\n",
    "# The \"years\" list is given with existing elements. \n",
    "years = [\"January 2023\", \"May 2025\", \"April 2023\", \"August 2024\", \"September 2025\", \"December 2023\"]\n",
    "\n",
    "\n",
    "# The variable \"updated_years\" is initialized as a list data type \n",
    "# using empty square brackets []. This list will hold the new list\n",
    "# with the updated years. \n",
    "updated_years = []\n",
    "\n",
    "# The for loop checks each \"year\" element in the list \"years\".\n",
    "for year in years:\n",
    "\n",
    "    # The if-statement checks if the \"year\" element ends with the \n",
    "    # substring \"2023\". \n",
    "    if year.endswith(\"2023\"):\n",
    "\n",
    "        # If True, then a temporary variable \"new\" will hold the \n",
    "        # modified \"year\" element where the \"2023\" substring is \n",
    "        # replaced with the substring \"2024\".\n",
    "        new = year.replace(\"2023\",\"2024\")\n",
    "\n",
    "        # Then, the list \"updated_years\" is appended with the changed\n",
    "        # element held in the temporary variable \"new\".\n",
    "        updated_years.append(new)\n",
    "        \n",
    "    # If False, the original \"year\" element will be appended to the \n",
    "    # the \"updated_years\" list unchanged.\n",
    "    else:\n",
    "        updated_years.append(year)\n",
    "\n",
    "\n",
    "print(updated_years) \n",
    "# Should print [\"January 2024\", \"May 2025\", \"April 2024\", \"August 2024\", \"September 2025\", \"December 2024\"]"
   ]
  },
  {
   "cell_type": "code",
   "execution_count": 28,
   "id": "eb6e89fb-0b60-4b57-b584-7fe70346116a",
   "metadata": {},
   "outputs": [
    {
     "name": "stdout",
     "output_type": "stream",
     "text": [
      "['January 2024', 'May 2025', 'April 2024', 'August 2024', 'September 2025', 'December 2024']\n"
     ]
    }
   ],
   "source": [
    "# This block of code also changes the year on a list of dates using a\n",
    "# different approach than demonstrated in Skill Group 1. By using a \n",
    "# list comprehension, you can see how it is possible to refactor the\n",
    "# code to a shorter, more efficient code block. \n",
    "\n",
    "# The \"years\" list is given with existing elements.\n",
    "years = [\"January 2023\", \"May 2025\", \"April 2023\", \"August 2024\", \"September 2025\", \"December 2023\"]\n",
    "\n",
    "# The list comprehension below creates a new list \"updated_years\" to\n",
    "# hold the command to replace the \"2023\" substring of the \"year\"\n",
    "# element with the substring \"2024\". This action will be executed if\n",
    "# the last 4 indices of the \"year\" string is equal to the substring\n",
    "# \"2023\". If false (else), the \"year\" element will be included in the\n",
    "# new list \"updated_years\" unchanged.\n",
    "updated_years = [year.replace(\"2023\",\"2024\") if year[-4:] == \"2023\" else year for year in years]\n",
    "\n",
    "\n",
    "print(updated_years) \n",
    "# Should print [\"January 2024\", \"May 2025\", \"April 2024\", \"August 2024\", \"September 2025\", \"December 2024\"]"
   ]
  },
  {
   "cell_type": "code",
   "execution_count": 31,
   "id": "2100b813-c76c-4f8e-88c5-9c25ecc0e773",
   "metadata": {},
   "outputs": [
    {
     "name": "stdout",
     "output_type": "stream",
     "text": [
      "one-1 two-2 three-3 four-4 five-5 \n",
      "January-1 February-2 March-3 April-4 May-5 \n"
     ]
    }
   ],
   "source": [
    "# This function splits a given string into a list of elements. Then, it\n",
    "# modifies each element by moving the first character to the end of the \n",
    "# element and adds a dash between the element and the moved character. \n",
    "# For example, the element \"2two\" will be changed to \"two-2\". Finally,\n",
    "# the function converts the list back to a string, and returns the\n",
    "# new string.\n",
    "def change_string(given_string):\n",
    "\n",
    "# Initialize \"new_string\" as a string data type by using empty quotes.\n",
    "    new_string = \"\"\n",
    "    # Split the \"given_string\" into a \"new_list\", with each \"element\"\n",
    "    # holding an individual word from the string.\n",
    "    new_list = given_string.split()\n",
    "\n",
    "    # The for loop iterates over each \"element\" in the \"new_list\".\n",
    "    for element in new_list:\n",
    "\n",
    "        # Convert the list into a \"new_string\" by using the assignment\n",
    "        # operator += to concatenate the following items: \n",
    "        # + Each list \"element\" (starting at index position [1:]), \n",
    "        # + a dash \"-\", \n",
    "        # + append the first character of the \"element\" (using the index \n",
    "        # [0]) to the end of the \"element\", and finally,\n",
    "        # + a space \" \" to separate each \"element\" in the \"new_string\".\n",
    "        new_string += element[1:] + \"-\"  + element[0] + \" \"\n",
    "\n",
    "    # Return the list that has been converted back into a string.\n",
    "    return new_string\n",
    "\n",
    "\n",
    "print(change_string(\"1one 2two 3three 4four 5five\")) \n",
    "print(change_string(\"1January 2February 3March 4April 5May\")) \n",
    "# Should print \"one-1 two-2 three-3 four-4 five-5\"  "
   ]
  },
  {
   "cell_type": "code",
   "execution_count": 32,
   "id": "51b220b8-2ce1-4202-8266-b1001820da1d",
   "metadata": {},
   "outputs": [
    {
     "name": "stdout",
     "output_type": "stream",
     "text": [
      "The Printers list includes: Color Printer, Black and White Printer, 3-D Printer\n"
     ]
    }
   ],
   "source": [
    "# This function accepts a list name and a list of elements, and returns\n",
    "# a string with the format: \"The \"list_name\" list includes: element1, \n",
    "# element2, element3\". \n",
    "def list_elements(list_name, elements):\n",
    "\n",
    "    # This task can be completed in a single line of code. The \n",
    "    # concatenation of strings, \"list_name\", and the list \"elements\" can\n",
    "    # occur on the return line. In this case, the string \"The \" is added \n",
    "    # to the \"list_name\", plus the string \" list includes: \", then the\n",
    "    # \"elements\" are joined using a comma to separate each element of the \n",
    "    # list.\n",
    "    return \"The \" + list_name + \" list includes: \" + \", \".join(elements)\n",
    "\n",
    "\n",
    "print(list_elements(\"Printers\", [\"Color Printer\", \"Black and White Printer\", \"3-D Printer\"])) \n",
    "# Should print \"The Printers list includes: Color Printer, Black and White Printer, 3-D Printer\""
   ]
  },
  {
   "cell_type": "code",
   "execution_count": null,
   "id": "36c5cd2a-1020-4c90-96b8-c98becadea7c",
   "metadata": {},
   "outputs": [],
   "source": [
    "# Let's create a function that turns text into pig latin: a simple text transformation that modifies each word moving \n",
    "# the first character to the end and appending \"ay\" to the end. For example, python ends up as ythonpay.\n",
    "\n",
    "# def pig_latin(text):\n",
    "#  say = \"\"\n",
    "#  # Separate the text into words\n",
    "#  words = ___\n",
    "#  for word in words:\n",
    "#    # Create the pig latin word and add it to the list\n",
    "#    ___\n",
    "#    # Turn the list back into a phrase\n",
    "#  return ___\n",
    "    \n",
    "# print(pig_latin(\"hello how are you\")) # Should be \"ellohay owhay reaay ouyay\"\n",
    "# print(pig_latin(\"programming in python is fun\")) # Should be \"rogrammingpay niay ythonpay siay unfay\t\n",
    "\n",
    "# def pig_latin(text):: This line defines a function named pig_latin that takes a single argument text.\n",
    "#\n",
    "# say = \"\": Initializes an empty string named say which will store the transformed text.\n",
    "#\n",
    "# words = text.split(): Splits the input text into a list of words using whitespace as the default delimiter. # The result is stored in the words list.\n",
    "#\n",
    "# pig_latin_words = []: Initializes an empty list named pig_latin_words which will store the words transformed # into pig latin.\n",
    "#\n",
    "# for word in words:: This line starts a for loop that iterates through each word in the words list.\n",
    "#\n",
    "# pig_latin_word = word[1:] + word[0] + \"ay\": This line creates a pig latin version of the current word by \n",
    "# taking all characters starting from index 1 (omitting the first character), then adding the first character, \n",
    "# and finally appending \"ay\" to the end. This forms the pig latin word.\n",
    "#\n",
    "# pig_latin_words.append(pig_latin_word): This adds each pig latin word to the pig_latin_words list.\n",
    "#\n",
    "# say = \" \".join(pig_latin_words): This line joins the pig_latin_words list into a string using a space as the separator. # This creates the final transformed text.\n",
    "#\n",
    "# return say: This line returns the modified text."
   ]
  },
  {
   "cell_type": "code",
   "execution_count": 43,
   "id": "c29a7963-0138-4111-a5ce-6463f1bfc36a",
   "metadata": {},
   "outputs": [
    {
     "name": "stdout",
     "output_type": "stream",
     "text": [
      "<debugging1 here>: ['hello', 'how', 'are', 'you']\n",
      "<debugging2 here>: llohay\n",
      "<debugging2 here>: whay\n",
      "<debugging2 here>: eaay\n",
      "<debugging2 here>: uyay\n",
      "llohay whay eaay uyay\n",
      "<debugging1 here>: ['programming', 'in', 'python', 'is', 'fun']\n",
      "<debugging2 here>: ogrammingpay\n",
      "<debugging2 here>: iay\n",
      "<debugging2 here>: thonpay\n",
      "<debugging2 here>: iay\n",
      "<debugging2 here>: nfay\n",
      "ogrammingpay iay thonpay iay nfay\n"
     ]
    }
   ],
   "source": [
    "def pig_latin(text):\n",
    "    say = \"\"\n",
    "    # Separate the text into words\n",
    "    words = text.split()\n",
    "    print(\"<debugging1 here>: \" + str(words)) # just debugging\n",
    "    \n",
    "    pig_latin_words = []\n",
    "    for word in words:\n",
    "        # Create the pig latin word and add it to the list\n",
    "        pig_latin_word = word[1:] + word[0] + \"ay\"\n",
    "        print(\"<debugging2 here>: \" + str(pig_latin_word)) # just debugging\n",
    "        \n",
    "        pig_latin_words.append(pig_latin_word)\n",
    "    # Turn the list back into a phrase\n",
    "    say = \" \".join(pig_latin_words)\n",
    "    return say\n",
    "    \n",
    "print(pig_latin(\"hello how are you\")) # Should be \"ellohay owhay reaay ouyay\"\n",
    "print(pig_latin(\"programming in python is fun\")) # Should be \"rogrammingpay niay ythonpay siay unfay\""
   ]
  },
  {
   "cell_type": "code",
   "execution_count": null,
   "id": "cfb0cf2b-13c2-4936-95e0-d359fdf9bad7",
   "metadata": {},
   "outputs": [],
   "source": [
    "# The guest_list function reads in a list of tuples with the name, age, and profession of each party guest, and prints the sentence \"Guest is X years old and works as __.\" for each one. \n",
    "# For example, guest_list(('Ken', 30, \"Chef\"), (\"Pat\", 35, 'Lawyer'), ('Amanda', 25, \"Engineer\")) should print out: Ken is 30 years old and works as Chef. Pat is 35 years old and works as Lawyer. Amanda is 25 years old and works as Engineer. Fill in the gaps in this function to do that. \n",
    "\n",
    "# def guest_list(guests):\n",
    "#\tfor ___:\n",
    "#\t\t___\n",
    "#\t\tprint(___.format(___))\n",
    "#\n",
    "# guest_list([('Ken', 30, \"Chef\"), (\"Pat\", 35, 'Lawyer'), ('Amanda', 25, \"Engineer\")])\n",
    "#\n",
    "# Click Run to submit code\n",
    "# \"\"\"\n",
    "# Output should match:\n",
    "# Ken is 30 years old and works as Chef\n",
    "# Pat is 35 years old and works as Lawyer\n",
    "# Amanda is 25 years old and works as Engineer\n",
    "# \"\"\""
   ]
  },
  {
   "cell_type": "code",
   "execution_count": null,
   "id": "98c3e504-2d6f-47e6-b77d-390cfcacc0ef",
   "metadata": {},
   "outputs": [],
   "source": [
    "# In this code:\n",
    "\n",
    "# for guest in guests:: This line starts a loop that iterates through each guest \"tuple\" in the guests list.\n",
    "\n",
    "# name, age, profession = guest: This line \"unpacks\" the values from the guest \"tuple\" into separate variables name, age, and profession.\n",
    "\n",
    "# print(\"{} is {} years old and works as {}.\".format(name, age, profession)): \n",
    "# This line uses the .format() method to insert the values of name, age, and profession into the string, creating the desired sentence."
   ]
  },
  {
   "cell_type": "code",
   "execution_count": 48,
   "id": "4984eec4-97c5-4da9-a5f8-838cefeab515",
   "metadata": {},
   "outputs": [
    {
     "name": "stdout",
     "output_type": "stream",
     "text": [
      "Ken is 30 years old and works as Chef.\n",
      "Pat is 35 years old and works as Lawyer.\n",
      "Amanda is 25 years old and works as Engineer.\n"
     ]
    }
   ],
   "source": [
    "def guest_list(guests):\n",
    "    for guest in guests:\n",
    "        name, age, profession = guest\n",
    "        print(\"{} is {} years old and works as {}\".format(name, age, profession))\n",
    "\n",
    "guest_list([('Ken', 30, \"Chef\"), (\"Pat\", 35, 'Lawyer'), ('Amanda', 25, \"Engineer\")])\n",
    "\n",
    "\n",
    "#Click Run to submit code\n",
    "\n",
    "# \"\"\"\n",
    "# Output should match:\n",
    "# Ken is 30 years old and works as Chef\n",
    "# Pat is 35 years old and works as Lawyer\n",
    "# Amanda is 25 years old and works as Engineer\n",
    "# \"\"\""
   ]
  },
  {
   "cell_type": "code",
   "execution_count": 1,
   "id": "643eab1d-4a3a-4d7a-af8f-ce4ce62e4161",
   "metadata": {},
   "outputs": [
    {
     "name": "stdout",
     "output_type": "stream",
     "text": [
      "octopuses have tentacles\n",
      "dolphins have fins\n",
      "rhinos have horns\n"
     ]
    }
   ],
   "source": [
    "# DICTIONARY\n",
    "\n",
    "# Complete the code to iterate through the keys and values of the cool_beasts dictionary. \n",
    "# Remember that the items method returns a tuple of key, value for each element in the dictionary.\n",
    "\n",
    "cool_beasts = {\"octopuses\":\"tentacles\", \"dolphins\":\"fins\", \"rhinos\":\"horns\"}\n",
    "for animal,feature in cool_beasts.items():\n",
    "    print(\"{} have {}\".format(animal,feature))"
   ]
  },
  {
   "cell_type": "code",
   "execution_count": 3,
   "id": "f1cc4c41-5114-42df-84c5-cca85fcf44ef",
   "metadata": {},
   "outputs": [
    {
     "name": "stdout",
     "output_type": "stream",
     "text": [
      "['Yorkie', 'Collie', 'Bulldog', 'Persian', 'Scottish Fold']\n"
     ]
    }
   ],
   "source": [
    "pet_list  = [\"Yorkie\", \"Collie\", \"Bulldog\", \"Persian\", \"Scottish Fold\", \"Siberian\", \"Angora\", \"Holland Lop\", \"Harlequin\"]\n",
    "\n",
    "\n",
    "print(pet_list[0:5])\n",
    "# Should print ['Yorkie', 'Collie', 'Bulldog']"
   ]
  },
  {
   "cell_type": "code",
   "execution_count": 2,
   "id": "71afcd0b-7a23-47fe-801a-09081783c4e8",
   "metadata": {},
   "outputs": [
    {
     "name": "stdout",
     "output_type": "stream",
     "text": [
      "20.1\n"
     ]
    }
   ],
   "source": [
    "# This function returns the total time, with minutes represented as \n",
    "# decimals (example: 1 hour 30 minutes = 1.5), for all end user time\n",
    "# spent accessing a server in a given day. \n",
    "\n",
    "def sum_server_use_time(Server):\n",
    "\n",
    "    # Initialize the variable as a float data type, which will be used\n",
    "    # to hold the sum of the total hours and minutes of server usage by\n",
    "    # end users in a day.\n",
    "    total_use_time = 0.0\n",
    "\n",
    "    # Iterate through the \"Server\" dictionary’s key and value items \n",
    "    # using a for loop.\n",
    "    for key,value in Server.items():\n",
    "\n",
    "        # For each end user key, add the associated time value to the\n",
    "        # total sum of all end user use time.\n",
    "        total_use_time += Server[key]\n",
    "        \n",
    "    # Round the return value and limit to 2 decimal places.\n",
    "    return round(total_use_time, 2)  \n",
    "\n",
    "FileServer = {\"EndUser1\": 2.25, \"EndUser2\": 4.5, \"EndUser3\": 1, \"EndUser4\": 3.75, \"EndUser5\": 0.6, \"EndUser6\": 8}\n",
    "\n",
    "print(sum_server_use_time(FileServer)) # Should print 20.1"
   ]
  },
  {
   "cell_type": "code",
   "execution_count": null,
   "id": "0ed7f0db-1646-4e3b-a8ac-4e53febc4847",
   "metadata": {},
   "outputs": [],
   "source": [
    "# Skill Group 2  \n",
    "\n",
    "# Concatenate a value, a string, and the key for each item in the dictionary \n",
    "# and append to the end of a new list[ ] using the list.append(x) method.  \n",
    "# Iterate over keys with multiple values from a dictionary using nested for loops with the dictionary.items() method.\n"
   ]
  },
  {
   "cell_type": "code",
   "execution_count": 4,
   "id": "c777c10d-a694-4744-b313-9a2ce62a3594",
   "metadata": {},
   "outputs": [
    {
     "name": "stdout",
     "output_type": "stream",
     "text": [
      "['Muhammad Ali', 'Amir Ali', 'Malik Ali', 'Ram Devi', 'Amaira Devi', 'Feng Chen', 'Li Chen']\n"
     ]
    }
   ],
   "source": [
    "# This function receives a dictionary, which contains common employee \n",
    "# last names as keys, and a list of employee first names as values. \n",
    "# The function generates a new list that contains each employees’ full\n",
    "# name (First_name Last_Name). For example, the key \"Garcia\" with the \n",
    "# values [\"Maria\", \"Hugo\", \"Lucia\"] should be converted to a list \n",
    "# that contains [\"Maria Garcia\", \"Hugo Garcia\", \"Lucia Garcia\"].\n",
    "\n",
    "\n",
    "def list_full_names(employee_dictionary):\n",
    "    # Initialize the \"full_names\" variable as a list data type using\n",
    "    # empty [] square brackets.  \n",
    "    full_names = []\n",
    "\n",
    "    # The outer for loop iterates through each \"last_name\" key and \n",
    "    # associated \"first_name\" values, in the \"employee_dictionary\" items.\n",
    "    for last_name, first_names in employee_dictionary.items():\n",
    "\n",
    "        # The inner for loop iterates over each \"first_name\" value in \n",
    "        # the list of \"first_names\" for one \"last_name\" key at a time.\n",
    "        for first_name in first_names:\n",
    "\n",
    "            # Append the new \"full_names\" list with the \"first_name\" value\n",
    "            # concatenated with a space \" \", and the key \"last_name\". \n",
    "            full_names.append(first_name+\" \"+last_name)\n",
    "            \n",
    "    # Return the new \"full_names\" list once the outer for loop has \n",
    "    # completed all iterations. \n",
    "    return(full_names)\n",
    "\n",
    "\n",
    "print(list_full_names({\"Ali\": [\"Muhammad\", \"Amir\", \"Malik\"], \"Devi\": [\"Ram\", \"Amaira\"], \"Chen\": [\"Feng\", \"Li\"]}))\n",
    "# Should print ['Muhammad Ali', 'Amir Ali', 'Malik Ali', 'Ram Devi', 'Amaira Devi', 'Feng Chen', 'Li Chen']\n"
   ]
  },
  {
   "cell_type": "code",
   "execution_count": null,
   "id": "78510a25-42c7-43f9-b39d-9916fee36d4a",
   "metadata": {},
   "outputs": [],
   "source": [
    "# Skill Group 3  \n",
    "\n",
    "# Use the dictionary[key] = value operation to associate a value with a key in a dictionary.   \n",
    "# Iterate over keys with multiple values from a dictionary, using nested for loops and an if-statement, \n",
    "# and the dictionary.items() method.\n",
    "# Use the dictionary[key].append(value) method to add the key, a string, and the key for each item in the dictionary."
   ]
  },
  {
   "cell_type": "code",
   "execution_count": 8,
   "id": "577b8f69-0614-4822-82c9-ffd15a1ec358",
   "metadata": {},
   "outputs": [
    {
     "name": "stdout",
     "output_type": "stream",
     "text": [
      "{'IDE HDDs': ['Hard Drives', 'PC Parts'], 'SCSI HDDs': ['Hard Drives', 'PC Parts'], 'High-end video cards': ['PC Parts', 'Video Cards'], 'Basic video cards': ['PC Parts', 'Video Cards']}\n"
     ]
    }
   ],
   "source": [
    "# This function receives a dictionary, which contains resource \n",
    "# categories (keys) with a list of available resources (values) for a \n",
    "# company’s IT Department. The resources belong to multiple categories.\n",
    "# The function should reverse the keys and values to show which \n",
    "# categories (values) each resource (key) belongs to. \n",
    "\n",
    "\n",
    "def invert_resource_dict(resource_dictionary):\n",
    "  # Initialize a \"new_dictionary\" variable as a dict data type using\n",
    "  # empty {} curly brackets. \n",
    "    new_dictionary = {}\n",
    "    # The outer for loop iterates through each \"resource_group\" and \n",
    "    # associated \"resources\" in the \"resource_dictionary\" items.\n",
    "    for resource_group, resources in resource_dictionary.items():\n",
    "        # The inner for loop iterates over each \"resource\" value in \n",
    "        # the list of \"resources\" for one \"resource_group\" key at a time.\n",
    "        for resource in resources:\n",
    "            # The if-statement checks if the current \"resource\" value has \n",
    "            # been appended as a key to the \"new_dictionary\" yet.\n",
    "            if resource in new_dictionary:\n",
    "                # If True, then append the \"resource_group\" as a value to the\n",
    "                # \"resource\", which is now the key.\n",
    "                new_dictionary[resource].append(resource_group)\n",
    "            # If False (else), then add the \"resource\" as a new key with the \n",
    "            # \"resource_group\" as a value for that key.\n",
    "            else:\n",
    "                new_dictionary[resource] = [resource_group]\n",
    "    # Return the new dictionary once the outer for loop has completed  \n",
    "    # all iterations.\n",
    "    return(new_dictionary)\n",
    "    print(new_dictionary)\n",
    "\n",
    "\n",
    "print(invert_resource_dict({\"Hard Drives\": [\"IDE HDDs\", \"SCSI HDDs\"],\"PC Parts\":  [\"IDE HDDs\", \"SCSI HDDs\", \"High-end video cards\", \"Basic video cards\"], \"Video Cards\": [\"High-end video cards\", \"Basic video cards\"]}))\n",
    "# Should print {'IDE HDDs': ['Hard Drives', 'PC Parts'], 'SCSI HDDs': ['Hard Drives', 'PC Parts'], 'High-end video cards': ['PC Parts', 'Video Cards'], 'Basic video cards': ['PC Parts', 'Video Cards']}"
   ]
  },
  {
   "cell_type": "code",
   "execution_count": 14,
   "id": "d5c6257d-b70d-44db-8ce5-1df8e3a22ddf",
   "metadata": {},
   "outputs": [
    {
     "name": "stdout",
     "output_type": "stream",
     "text": [
      "> \u001b[0;32m/tmp/ipykernel_32895/3028290048.py\u001b[0m(16)\u001b[0;36minvert_resource_dict\u001b[0;34m()\u001b[0m\n",
      "\u001b[0;32m     14 \u001b[0;31m    \u001b[0mpdb\u001b[0m\u001b[0;34m.\u001b[0m\u001b[0mset_trace\u001b[0m\u001b[0;34m(\u001b[0m\u001b[0;34m)\u001b[0m\u001b[0;34m\u001b[0m\u001b[0;34m\u001b[0m\u001b[0m\n",
      "\u001b[0m\u001b[0;32m     15 \u001b[0;31m\u001b[0;34m\u001b[0m\u001b[0m\n",
      "\u001b[0m\u001b[0;32m---> 16 \u001b[0;31m    \u001b[0;32mreturn\u001b[0m \u001b[0mnew_dictionary\u001b[0m\u001b[0;34m\u001b[0m\u001b[0;34m\u001b[0m\u001b[0m\n",
      "\u001b[0m\u001b[0;32m     17 \u001b[0;31m\u001b[0;34m\u001b[0m\u001b[0m\n",
      "\u001b[0m\u001b[0;32m     18 \u001b[0;31mprint(invert_resource_dict({\"Hard Drives\": [\"IDE HDDs\", \"SCSI HDDs\"],\n",
      "\u001b[0m\n"
     ]
    },
    {
     "name": "stdin",
     "output_type": "stream",
     "text": [
      "ipdb>  p resource_dictionary\n"
     ]
    },
    {
     "name": "stdout",
     "output_type": "stream",
     "text": [
      "{'Hard Drives': ['IDE HDDs', 'SCSI HDDs'], 'PC Parts': ['IDE HDDs', 'SCSI HDDs', 'High-end video cards', 'Basic video cards'], 'Video Cards': ['High-end video cards', 'Basic video cards']}\n"
     ]
    },
    {
     "name": "stdin",
     "output_type": "stream",
     "text": [
      "ipdb>  p new_dictionary\n"
     ]
    },
    {
     "name": "stdout",
     "output_type": "stream",
     "text": [
      "{'IDE HDDs': ['Hard Drives', 'PC Parts'], 'SCSI HDDs': ['Hard Drives', 'PC Parts'], 'High-end video cards': ['PC Parts', 'Video Cards'], 'Basic video cards': ['PC Parts', 'Video Cards']}\n"
     ]
    },
    {
     "name": "stdin",
     "output_type": "stream",
     "text": [
      "ipdb>  p resource_group\n"
     ]
    },
    {
     "name": "stdout",
     "output_type": "stream",
     "text": [
      "'Video Cards'\n"
     ]
    },
    {
     "name": "stdin",
     "output_type": "stream",
     "text": [
      "ipdb>  p resources\n"
     ]
    },
    {
     "name": "stdout",
     "output_type": "stream",
     "text": [
      "['High-end video cards', 'Basic video cards']\n"
     ]
    },
    {
     "name": "stdin",
     "output_type": "stream",
     "text": [
      "ipdb>  p resource\n"
     ]
    },
    {
     "name": "stdout",
     "output_type": "stream",
     "text": [
      "'Basic video cards'\n"
     ]
    },
    {
     "name": "stdin",
     "output_type": "stream",
     "text": [
      "ipdb>  q\n"
     ]
    },
    {
     "ename": "BdbQuit",
     "evalue": "",
     "output_type": "error",
     "traceback": [
      "\u001b[0;31m---------------------------------------------------------------------------\u001b[0m",
      "\u001b[0;31mBdbQuit\u001b[0m                                   Traceback (most recent call last)",
      "\u001b[0;32m/tmp/ipykernel_32895/3028290048.py\u001b[0m in \u001b[0;36m<module>\u001b[0;34m\u001b[0m\n\u001b[1;32m     16\u001b[0m     \u001b[0;32mreturn\u001b[0m \u001b[0mnew_dictionary\u001b[0m\u001b[0;34m\u001b[0m\u001b[0;34m\u001b[0m\u001b[0m\n\u001b[1;32m     17\u001b[0m \u001b[0;34m\u001b[0m\u001b[0m\n\u001b[0;32m---> 18\u001b[0;31m print(invert_resource_dict({\"Hard Drives\": [\"IDE HDDs\", \"SCSI HDDs\"],\n\u001b[0m\u001b[1;32m     19\u001b[0m      \"PC Parts\":  [\"IDE HDDs\", \"SCSI HDDs\", \"High-end video cards\", \"Basic video cards\"], \"Video Cards\": [\"High-end video cards\", \"Basic video cards\"]}))\n",
      "\u001b[0;32m/tmp/ipykernel_32895/3028290048.py\u001b[0m in \u001b[0;36minvert_resource_dict\u001b[0;34m(resource_dictionary)\u001b[0m\n\u001b[1;32m     14\u001b[0m     \u001b[0mpdb\u001b[0m\u001b[0;34m.\u001b[0m\u001b[0mset_trace\u001b[0m\u001b[0;34m(\u001b[0m\u001b[0;34m)\u001b[0m\u001b[0;34m\u001b[0m\u001b[0;34m\u001b[0m\u001b[0m\n\u001b[1;32m     15\u001b[0m \u001b[0;34m\u001b[0m\u001b[0m\n\u001b[0;32m---> 16\u001b[0;31m     \u001b[0;32mreturn\u001b[0m \u001b[0mnew_dictionary\u001b[0m\u001b[0;34m\u001b[0m\u001b[0;34m\u001b[0m\u001b[0m\n\u001b[0m\u001b[1;32m     17\u001b[0m \u001b[0;34m\u001b[0m\u001b[0m\n\u001b[1;32m     18\u001b[0m print(invert_resource_dict({\"Hard Drives\": [\"IDE HDDs\", \"SCSI HDDs\"],\n",
      "\u001b[0;32m/tmp/ipykernel_32895/3028290048.py\u001b[0m in \u001b[0;36minvert_resource_dict\u001b[0;34m(resource_dictionary)\u001b[0m\n\u001b[1;32m     14\u001b[0m     \u001b[0mpdb\u001b[0m\u001b[0;34m.\u001b[0m\u001b[0mset_trace\u001b[0m\u001b[0;34m(\u001b[0m\u001b[0;34m)\u001b[0m\u001b[0;34m\u001b[0m\u001b[0;34m\u001b[0m\u001b[0m\n\u001b[1;32m     15\u001b[0m \u001b[0;34m\u001b[0m\u001b[0m\n\u001b[0;32m---> 16\u001b[0;31m     \u001b[0;32mreturn\u001b[0m \u001b[0mnew_dictionary\u001b[0m\u001b[0;34m\u001b[0m\u001b[0;34m\u001b[0m\u001b[0m\n\u001b[0m\u001b[1;32m     17\u001b[0m \u001b[0;34m\u001b[0m\u001b[0m\n\u001b[1;32m     18\u001b[0m print(invert_resource_dict({\"Hard Drives\": [\"IDE HDDs\", \"SCSI HDDs\"],\n",
      "\u001b[0;32m~/anaconda3/lib/python3.9/bdb.py\u001b[0m in \u001b[0;36mtrace_dispatch\u001b[0;34m(self, frame, event, arg)\u001b[0m\n\u001b[1;32m     86\u001b[0m             \u001b[0;32mreturn\u001b[0m \u001b[0;31m# None\u001b[0m\u001b[0;34m\u001b[0m\u001b[0;34m\u001b[0m\u001b[0m\n\u001b[1;32m     87\u001b[0m         \u001b[0;32mif\u001b[0m \u001b[0mevent\u001b[0m \u001b[0;34m==\u001b[0m \u001b[0;34m'line'\u001b[0m\u001b[0;34m:\u001b[0m\u001b[0;34m\u001b[0m\u001b[0;34m\u001b[0m\u001b[0m\n\u001b[0;32m---> 88\u001b[0;31m             \u001b[0;32mreturn\u001b[0m \u001b[0mself\u001b[0m\u001b[0;34m.\u001b[0m\u001b[0mdispatch_line\u001b[0m\u001b[0;34m(\u001b[0m\u001b[0mframe\u001b[0m\u001b[0;34m)\u001b[0m\u001b[0;34m\u001b[0m\u001b[0;34m\u001b[0m\u001b[0m\n\u001b[0m\u001b[1;32m     89\u001b[0m         \u001b[0;32mif\u001b[0m \u001b[0mevent\u001b[0m \u001b[0;34m==\u001b[0m \u001b[0;34m'call'\u001b[0m\u001b[0;34m:\u001b[0m\u001b[0;34m\u001b[0m\u001b[0;34m\u001b[0m\u001b[0m\n\u001b[1;32m     90\u001b[0m             \u001b[0;32mreturn\u001b[0m \u001b[0mself\u001b[0m\u001b[0;34m.\u001b[0m\u001b[0mdispatch_call\u001b[0m\u001b[0;34m(\u001b[0m\u001b[0mframe\u001b[0m\u001b[0;34m,\u001b[0m \u001b[0marg\u001b[0m\u001b[0;34m)\u001b[0m\u001b[0;34m\u001b[0m\u001b[0;34m\u001b[0m\u001b[0m\n",
      "\u001b[0;32m~/anaconda3/lib/python3.9/bdb.py\u001b[0m in \u001b[0;36mdispatch_line\u001b[0;34m(self, frame)\u001b[0m\n\u001b[1;32m    111\u001b[0m         \u001b[0;32mif\u001b[0m \u001b[0mself\u001b[0m\u001b[0;34m.\u001b[0m\u001b[0mstop_here\u001b[0m\u001b[0;34m(\u001b[0m\u001b[0mframe\u001b[0m\u001b[0;34m)\u001b[0m \u001b[0;32mor\u001b[0m \u001b[0mself\u001b[0m\u001b[0;34m.\u001b[0m\u001b[0mbreak_here\u001b[0m\u001b[0;34m(\u001b[0m\u001b[0mframe\u001b[0m\u001b[0;34m)\u001b[0m\u001b[0;34m:\u001b[0m\u001b[0;34m\u001b[0m\u001b[0;34m\u001b[0m\u001b[0m\n\u001b[1;32m    112\u001b[0m             \u001b[0mself\u001b[0m\u001b[0;34m.\u001b[0m\u001b[0muser_line\u001b[0m\u001b[0;34m(\u001b[0m\u001b[0mframe\u001b[0m\u001b[0;34m)\u001b[0m\u001b[0;34m\u001b[0m\u001b[0;34m\u001b[0m\u001b[0m\n\u001b[0;32m--> 113\u001b[0;31m             \u001b[0;32mif\u001b[0m \u001b[0mself\u001b[0m\u001b[0;34m.\u001b[0m\u001b[0mquitting\u001b[0m\u001b[0;34m:\u001b[0m \u001b[0;32mraise\u001b[0m \u001b[0mBdbQuit\u001b[0m\u001b[0;34m\u001b[0m\u001b[0;34m\u001b[0m\u001b[0m\n\u001b[0m\u001b[1;32m    114\u001b[0m         \u001b[0;32mreturn\u001b[0m \u001b[0mself\u001b[0m\u001b[0;34m.\u001b[0m\u001b[0mtrace_dispatch\u001b[0m\u001b[0;34m\u001b[0m\u001b[0;34m\u001b[0m\u001b[0m\n\u001b[1;32m    115\u001b[0m \u001b[0;34m\u001b[0m\u001b[0m\n",
      "\u001b[0;31mBdbQuit\u001b[0m: "
     ]
    }
   ],
   "source": [
    "import pdb\n",
    "\n",
    "def invert_resource_dict(resource_dictionary):\n",
    "    new_dictionary = {}\n",
    "    \n",
    "    for resource_group, resources in resource_dictionary.items():\n",
    "        for resource in resources:\n",
    "            if resource in new_dictionary:\n",
    "                new_dictionary[resource].append(resource_group)\n",
    "            else:\n",
    "                new_dictionary[resource] = [resource_group]\n",
    "                \n",
    "    # Set a breakpoint here\n",
    "    pdb.set_trace()\n",
    "    \n",
    "    return new_dictionary\n",
    "\n",
    "print(invert_resource_dict({\"Hard Drives\": [\"IDE HDDs\", \"SCSI HDDs\"],\n",
    "     \"PC Parts\":  [\"IDE HDDs\", \"SCSI HDDs\", \"High-end video cards\", \"Basic video cards\"], \n",
    "                            \"Video Cards\": [\"High-end video cards\", \"Basic video cards\"]}))\n"
   ]
  },
  {
   "cell_type": "code",
   "execution_count": 15,
   "id": "dde9f884-37d0-4e01-88b7-7b7e3acaa58a",
   "metadata": {},
   "outputs": [
    {
     "name": "stdout",
     "output_type": "stream",
     "text": [
      "Winter fleece jackets are on sale for $49.99\n",
      "Summer shirts are on sale for $79.99\n"
     ]
    }
   ],
   "source": [
    "def sales_prices(item_and_price):\n",
    "    # Initialize variables \"item\" and \"price\" as strings\n",
    "    item = \"\"\n",
    "    price = \"\"\n",
    "    # Create a variable \"item_or_price\" to hold the result of the split. \n",
    "    item_or_price = item_and_price.split()\n",
    "\n",
    "    # For each element \"x\" in the split variable \"item_or_price\" \n",
    "    for x in item_or_price:\n",
    "\n",
    "        # Check if the element is a number\n",
    "        if x.isalpha():\n",
    "\n",
    "            # If true, assign the element to the \"item\" string variable and add a space \n",
    "            # for any item names containing multiple words, like \"Winter fleece jacket\".\n",
    "            item += x + \" \"\n",
    "\n",
    "        # Else, if x is a number (if x.isalpha() is false): \n",
    "        else:\n",
    "            # Assign the element to the \"price\" string variable. \n",
    "            price = x\n",
    "\n",
    "    # Strip the extra space to the right of the last \"item\" word\n",
    "    item = item.strip()\n",
    "\n",
    "    # Return the item name and price formatted in a sentence \n",
    "    return \"{} are on sale for ${}\".format(item,price)\n",
    "\n",
    "\n",
    "# Call to the function \n",
    "print(sales_prices(\"Winter fleece jackets 49.99\")) # Should print \"Winter fleece jackets are on sale for $49.99\"\n",
    "print(sales_prices(\"Summer shirts 79.99\"))"
   ]
  },
  {
   "cell_type": "code",
   "execution_count": 17,
   "id": "c8cc0eda-53c5-4b46-9688-b73a457bc71e",
   "metadata": {},
   "outputs": [
    {
     "name": "stdout",
     "output_type": "stream",
     "text": [
      "9\n"
     ]
    }
   ],
   "source": [
    "# This function accepts a string variable \"data_field\".  \n",
    "def count_words(data_field):\n",
    "\n",
    "    # Splits the string into individual words. \n",
    "    split_data = data_field.split()\n",
    "  \n",
    "    # Then returns the number of words in the string using the len()\n",
    "    # function. \n",
    "    return len(split_data)\n",
    "    \n",
    "    # Note that it is possible to combine the len() function and the \n",
    "    # .split() method into the same line of code by inserting the \n",
    "    # data_field.split() command into the the len() function parameters.\n",
    "\n",
    "# Call to the function\n",
    "print(count_words(\"Catalog item 3523: Organic raw pumpkin seeds in shell\"))\n",
    "# Should print 9"
   ]
  },
  {
   "cell_type": "code",
   "execution_count": 18,
   "id": "78c3a8cc-4ef2-45f2-be49-73cee79ba204",
   "metadata": {},
   "outputs": [
    {
     "name": "stdout",
     "output_type": "stream",
     "text": [
      "The legal driving age is 16.\n",
      "The legal voting age is 18.\n",
      "The legal drinking age is 21.\n",
      "The legal retirement age is 65.\n"
     ]
    }
   ],
   "source": [
    "def legalAges():  # Define the legalAges function.\n",
    "    lifeEvent = ( # Define the \"list data structures\" entries such as Voting Age.\n",
    "        16, #driving,\n",
    "        18, #voting\n",
    "        21, #drinking\n",
    "        65  #retirement\n",
    "    )\n",
    "    print(\"The legal driving age is \" # Print the values in each element of the lifeEvent list.\n",
    "      + str(lifeEvent[0]) + \".\")\n",
    "    print(\"The legal voting age is \"\n",
    "      + str(lifeEvent[1]) + \".\")\n",
    "    print(\"The legal drinking age is \"\n",
    "      + str(lifeEvent[2]) + \".\")\n",
    "    print(\"The legal retirement age is \"\n",
    "      + str(lifeEvent[3]) + \".\")\n",
    "legalAges() # Use to call the legalAges() function"
   ]
  },
  {
   "cell_type": "code",
   "execution_count": 19,
   "id": "d4160e1b-6c79-4455-a276-8cd60604b959",
   "metadata": {},
   "outputs": [
    {
     "name": "stdout",
     "output_type": "stream",
     "text": [
      "60\n"
     ]
    }
   ],
   "source": []
  },
  {
   "cell_type": "code",
   "execution_count": 20,
   "id": "e914ab51-23d0-4a00-bf8b-01461f71ebf4",
   "metadata": {},
   "outputs": [
    {
     "name": "stdout",
     "output_type": "stream",
     "text": [
      "60\n"
     ]
    }
   ],
   "source": [
    "x = 1\n",
    "sum = 5\n",
    "while x <= 10:\n",
    "    sum += x\n",
    "    x += 1\n",
    "print(sum)\n"
   ]
  },
  {
   "cell_type": "code",
   "execution_count": 21,
   "id": "df648587-5052-4c96-a252-9b4697bc1bca",
   "metadata": {},
   "outputs": [
    {
     "name": "stdout",
     "output_type": "stream",
     "text": [
      "0\n",
      "0\n",
      "1\n",
      "0\n",
      "1\n",
      "2\n",
      "0\n",
      "1\n",
      "2\n",
      "3\n",
      "0\n",
      "1\n",
      "2\n",
      "3\n",
      "4\n",
      "0\n",
      "1\n",
      "2\n",
      "3\n",
      "4\n",
      "5\n",
      "0\n",
      "1\n",
      "2\n",
      "3\n",
      "4\n",
      "5\n",
      "6\n",
      "0\n",
      "1\n",
      "2\n",
      "3\n",
      "4\n",
      "5\n",
      "6\n",
      "7\n",
      "0\n",
      "1\n",
      "2\n",
      "3\n",
      "4\n",
      "5\n",
      "6\n",
      "7\n",
      "8\n"
     ]
    }
   ],
   "source": [
    "for x in range(10):\n",
    "    for y in range(x):\n",
    "        print(y)"
   ]
  },
  {
   "cell_type": "code",
   "execution_count": null,
   "id": "c480363b-c3e6-4085-98d8-de27f2e877ea",
   "metadata": {},
   "outputs": [],
   "source": []
  }
 ],
 "metadata": {
  "kernelspec": {
   "display_name": "Python 3 (ipykernel)",
   "language": "python",
   "name": "python3"
  },
  "language_info": {
   "codemirror_mode": {
    "name": "ipython",
    "version": 3
   },
   "file_extension": ".py",
   "mimetype": "text/x-python",
   "name": "python",
   "nbconvert_exporter": "python",
   "pygments_lexer": "ipython3",
   "version": "3.9.13"
  }
 },
 "nbformat": 4,
 "nbformat_minor": 5
}
