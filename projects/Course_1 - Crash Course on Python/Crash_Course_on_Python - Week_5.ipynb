{
 "cells": [
  {
   "cell_type": "code",
   "execution_count": 1,
   "id": "aa051a5b-5fde-49d0-8b75-fda91d881c50",
   "metadata": {},
   "outputs": [
    {
     "name": "stdout",
     "output_type": "stream",
     "text": [
      "red\n",
      "sweet\n"
     ]
    }
   ],
   "source": [
    "class Apple:\n",
    "    pass\n",
    "\n",
    "########################\n",
    "\n",
    "class Apple:\n",
    "    color = \"\"\n",
    "    flavor = \"\"\n",
    "    \n",
    "jonagold = Apple()\n",
    "jonagold.color = \"red\"\n",
    "jonagold.flavor = \"sweet\"\n",
    "\n",
    "print(jonagold.color)\n",
    "print(jonagold.flavor)\n",
    "\n",
    "golden = Apple()\n",
    "golden.color = \"Yellow\"\n",
    "golden.flavor = \"Soft\"\n"
   ]
  },
  {
   "cell_type": "code",
   "execution_count": 4,
   "id": "de24a559-9f3b-4b80-991b-b30d1e6fc23b",
   "metadata": {},
   "outputs": [
    {
     "name": "stdout",
     "output_type": "stream",
     "text": [
      "RED\n",
      "SWEET\n"
     ]
    }
   ],
   "source": [
    "print(jonagold.color.upper())\n",
    "print(jonagold.flavor.upper())"
   ]
  },
  {
   "cell_type": "code",
   "execution_count": 5,
   "id": "30a96c4a-fd28-4859-918c-19a2e439d573",
   "metadata": {},
   "outputs": [
    {
     "name": "stdout",
     "output_type": "stream",
     "text": [
      "Roses are red,\n",
      "violets are blue,\n",
      "but I love you more than poetry\n"
     ]
    }
   ],
   "source": [
    "class Poem:\n",
    "  color = 'unknown'\n",
    "\n",
    "rose = Poem()\n",
    "rose.color = 'red'\n",
    "\n",
    "violet = Poem()\n",
    "violet.color = 'blue'\n",
    "\n",
    "this_pun_is_for_you = 'but I love you more than poetry'\n",
    "\n",
    "print(\"Roses are {},\".format(rose.color))\n",
    "print(\"violets are {},\".format(violet.color))\n",
    "print(this_pun_is_for_you)\n"
   ]
  },
  {
   "cell_type": "code",
   "execution_count": 6,
   "id": "e2fdd32d-af55-4eb2-bd76-cfa15c51b19c",
   "metadata": {},
   "outputs": [
    {
     "name": "stdout",
     "output_type": "stream",
     "text": [
      "Johanna has 2 apples and Martin has 1 apples\n",
      "Johanna has 2 ideas and Martin has 2 ideas\n"
     ]
    }
   ],
   "source": [
    "# “If you have an apple and I have an apple and we exchange these apples then\n",
    "# you and I will still each have one apple. But if you have an idea and I have\n",
    "# an idea and we exchange these ideas, then each of us will have two ideas.”\n",
    "# George Bernard Shaw\n",
    "\n",
    "class Person:\n",
    "    apples = 0\n",
    "    ideas = 0\n",
    "\n",
    "johanna = Person()\n",
    "johanna.apples = 1\n",
    "johanna.ideas = 1\n",
    "\n",
    "martin = Person()\n",
    "martin.apples = 2\n",
    "martin.ideas = 1\n",
    "\n",
    "def exchange_apples(you, me):\n",
    "    #Here, despite G.B. Shaw's quote, our characters have started with       \n",
    "    #different amounts of apples so we can better observe the results. \n",
    "    #We're going to have Martin and Johanna exchange ALL their apples with \n",
    "    #one another.\n",
    "    #Hint: how would you switch values of variables, \n",
    "    #so that \"you\" and \"me\" will exchange ALL their apples with one another?\n",
    "    #Do you need a temporary variable to store one of the values?\n",
    "    #You may need more than one line of code to do that, which is OK. \n",
    "    you.apples, me.apples = me.apples, you.apples\n",
    "    return you.apples, me.apples\n",
    "    \n",
    "def exchange_ideas(you, me):\n",
    "    #\"you\" and \"me\" will share our ideas with one another.\n",
    "    #What operations need to be performed, so that each object receives\n",
    "    #the shared number of ideas?\n",
    "    #Hint: how would you assign the total number of ideas to \n",
    "    #each idea attribute? Do you need a temporary variable to store \n",
    "    #the sum of ideas, or can you find another way? \n",
    "    #Use as many lines of code as you need here.\n",
    "    you.ideas += me.ideas\n",
    "    me.ideas += you.ideas - me.ideas\n",
    "    return you.ideas, me.ideas\n",
    "\n",
    "exchange_apples(johanna, martin)\n",
    "print(\"Johanna has {} apples and Martin has {} apples\".format(johanna.apples, martin.apples))\n",
    "exchange_ideas(johanna, martin)\n",
    "print(\"Johanna has {} ideas and Martin has {} ideas\".format(johanna.ideas, martin.ideas))"
   ]
  },
  {
   "cell_type": "markdown",
   "id": "99b267fb-623d-4346-9ee5-9f9798321e05",
   "metadata": {},
   "source": [
    "class Person:: This line defines a class named Person. In Python, a class is a blueprint for creating objects, \n",
    "and it can have attributes and methods that define its behavior.\n",
    "\n",
    "apples = 0: This line defines a class attribute named apples and initializes it with the value 0. \n",
    "Class attributes are shared among all instances (objects) of the class.\n",
    "\n",
    "ideas = 0: Similarly, this line defines another class attribute named ideas and initializes it with the value 0.\n",
    "\n",
    "johanna = Person(): This line creates an instance of the Person class named johanna. \n",
    "It's like creating an object based on the blueprint defined by the Person class.\n",
    "\n",
    "johanna.apples = 1: Here, you set the apples attribute of the johanna instance to 1. \n",
    "This is an instance attribute and overrides the class attribute for this specific instance.\n",
    "\n",
    "johanna.ideas = 1: Similarly, you set the ideas attribute of the johanna instance to 1.\n",
    "\n",
    "martin = Person(): This line creates another instance of the Person class named martin.\n",
    "\n",
    "martin.apples = 2: You set the apples attribute of the martin instance to 2.\n",
    "\n",
    "martin.ideas = 1: You set the ideas attribute of the martin instance to 1.\n",
    "\n",
    "def exchange_apples(you, me):: This line defines a function named exchange_apples that takes two arguments, \n",
    "you and me. This function will be used to exchange the apples attribute values between two instances.\n",
    "\n",
    "you.apples, me.apples = me.apples, you.apples: Inside the exchange_apples function, \n",
    "this line swaps the apples values between the you and me instances using tuple packing and unpacking.\n",
    "\n",
    "return you.apples, me.apples: The function returns the updated apples values after the exchange.\n",
    "\n",
    "def exchange_ideas(you, me):: This line defines another function named exchange_ideas with similar arguments for exchanging the ideas attribute values.\n",
    "\n",
    "you.ideas += me.ideas: This line adds the ideas value of the me instance to the ideas value of the you instance.\n",
    "\n",
    "me.ideas += you.ideas - me.ideas: This line updates the ideas value of the me instance to be the difference between\n",
    "the ideas value of you and the current ideas value of me. This effectively swaps the ideas values.\n",
    "\n",
    "return you.ideas, me.ideas: The function returns the updated ideas values after the exchange.\n",
    "\n",
    "exchange_apples(johanna, martin): This line calls the exchange_apples function with johanna \n",
    "and martin as arguments to exchange their apples values.\n",
    "\n",
    "print(\"Johanna has {} apples and Martin has {} apples\".format(johanna.apples, martin.apples)): This line prints the updated apples values for johanna and martin after the exchange.\n",
    "\n",
    "exchange_ideas(johanna, martin): This line calls the exchange_ideas function with johanna and martin as arguments to exchange their ideas values.\n",
    "\n",
    "print(\"Johanna has {} ideas and Martin has {} ideas\".format(johanna.ideas, martin.ideas)): Finally, this line prints the updated ideas values for johanna and martin after the exchange.\n",
    "\n",
    "In summary, this code defines a Person class with attributes for apples and ideas, creates two instances of the class (johanna and martin), \n",
    "and uses two functions (exchange_apples and exchange_ideas) to exchange their attribute values. It then prints the updated values to the console."
   ]
  },
  {
   "cell_type": "code",
   "execution_count": 1,
   "id": "97cb133e-a80f-41f1-8579-2cb87df8c1e6",
   "metadata": {},
   "outputs": [
    {
     "name": "stdout",
     "output_type": "stream",
     "text": [
      "Johanna has 2 apples and Martin has 1 apples\n",
      "Johanna has 2 ideas and Martin has 2 ideas\n"
     ]
    }
   ],
   "source": [
    "# “If you have an apple and I have an apple and we exchange these apples then\n",
    "# you and I will still each have one apple. But if you have an idea and I have\n",
    "# an idea and we exchange these ideas, then each of us will have two ideas.”\n",
    "# George Bernard Shaw\n",
    "\n",
    "class Person:\n",
    "    apples = 0\n",
    "    ideas = 0\n",
    "\n",
    "johanna = Person()\n",
    "johanna.apples = 1\n",
    "johanna.ideas = 1\n",
    "\n",
    "martin = Person()\n",
    "martin.apples = 2\n",
    "martin.ideas = 1\n",
    "\n",
    "def exchange_apples(you, me):\n",
    "    #Here, despite G.B. Shaw's quote, our characters have started with       \n",
    "    #different amounts of apples so we can better observe the results. \n",
    "    #We're going to have Martin and Johanna exchange ALL their apples with \n",
    "    #one another.\n",
    "    #Hint: how would you switch values of variables, \n",
    "    #so that \"you\" and \"me\" will exchange ALL their apples with one another?\n",
    "    #Do you need a temporary variable to store one of the values?\n",
    "    #You may need more than one line of code to do that, which is OK. \n",
    "    you.apples, me.apples = me.apples, you.apples\n",
    "    return you.apples, me.apples\n",
    "    \n",
    "def exchange_ideas(you, me):\n",
    "    #\"you\" and \"me\" will share our ideas with one another.\n",
    "    #What operations need to be performed, so that each object receives\n",
    "    #the shared number of ideas?\n",
    "    #Hint: how would you assign the total number of ideas to \n",
    "    #each idea attribute? Do you need a temporary variable to store \n",
    "    #the sum of ideas, or can you find another way? \n",
    "    #Use as many lines of code as you need here.\n",
    "    you.ideas += me.ideas\n",
    "    me.ideas += you.ideas - me.ideas\n",
    "    return you.ideas, me.ideas\n",
    "\n",
    "exchange_apples(johanna, martin)\n",
    "print(\"Johanna has {} apples and Martin has {} apples\".format(johanna.apples, martin.apples))\n",
    "exchange_ideas(johanna, martin)\n",
    "print(\"Johanna has {} ideas and Martin has {} ideas\".format(johanna.ideas, martin.ideas))"
   ]
  },
  {
   "cell_type": "code",
   "execution_count": 7,
   "id": "79b845f5-fba9-4706-b6f1-c281a46057fd",
   "metadata": {},
   "outputs": [
    {
     "name": "stdout",
     "output_type": "stream",
     "text": [
      "Johanna has 2 apples and Martin has 1 apples\n",
      "Johanna has 2 ideas and Martin has 2 ideas\n"
     ]
    }
   ],
   "source": [
    "# Another Version as per ChatGPT:\n",
    "class Person:\n",
    "    def __init__(self):\n",
    "        self.apples = 0\n",
    "        self.ideas = 0\n",
    "\n",
    "# Create persons\n",
    "johanna = Person()\n",
    "johanna.apples = 1\n",
    "johanna.ideas = 1\n",
    "\n",
    "martin = Person()\n",
    "martin.apples = 2\n",
    "martin.ideas = 1\n",
    "\n",
    "def exchange_apples(you, me):\n",
    "    # Store one of the values in a temporary variable\n",
    "    temp = you.apples\n",
    "    # Exchange the apples\n",
    "    you.apples = me.apples\n",
    "    me.apples = temp\n",
    "    return you.apples, me.apples\n",
    "\n",
    "def exchange_ideas(you, me):\n",
    "    # Sum the ideas and assign to each idea attribute\n",
    "    total_ideas = you.ideas + me.ideas\n",
    "    you.ideas = total_ideas\n",
    "    me.ideas = total_ideas\n",
    "    return you.ideas, me.ideas\n",
    "\n",
    "# Exchange apples and print the result\n",
    "exchange_apples(johanna, martin)\n",
    "print(\"Johanna has {} apples and Martin has {} apples\".format(johanna.apples, martin.apples))\n",
    "\n",
    "# Exchange ideas and print the result\n",
    "exchange_ideas(johanna, martin)\n",
    "print(\"Johanna has {} ideas and Martin has {} ideas\".format(johanna.ideas, martin.ideas))\n"
   ]
  },
  {
   "cell_type": "code",
   "execution_count": 4,
   "id": "00806a09-c3b8-490f-b509-a319e9068bf8",
   "metadata": {},
   "outputs": [
    {
     "name": "stdout",
     "output_type": "stream",
     "text": [
      "21\n",
      "35\n"
     ]
    }
   ],
   "source": [
    "class Dog:\n",
    "    def __init__(self):\n",
    "        self.years = 0\n",
    "\n",
    "    def dog_years(self):\n",
    "        return self.years * 7\n",
    "\n",
    "# Create an instance of the Dog class\n",
    "fido = Dog()\n",
    "\n",
    "# Set Fido's age in human years\n",
    "fido.years = 3\n",
    "\n",
    "# Calculate Fido's age in dog years and print it\n",
    "print(fido.dog_years())\n",
    "\n",
    "# Create an instance of the Dog class\n",
    "dido = Dog()\n",
    "\n",
    "# Set Fido's age in human years\n",
    "dido.years = 5\n",
    "\n",
    "# Calculate Fido's age in dog years and print it\n",
    "print(dido.dog_years())\n"
   ]
  },
  {
   "cell_type": "markdown",
   "id": "7d75aa81-538d-4d4b-820f-920cf0fc295f",
   "metadata": {},
   "source": [
    "What Is a Method?\n",
    "\n",
    "Calling methods on objects executes functions that operate on attributes of a specific instance of the class. This means that calling a method on a list, for example, only modifies that instance of a list, and not all lists globally. We can define methods within a class by creating functions inside the class definition. These instance methods can take a parameter called self which represents the instance the method is being executed on. This will allow you to access attributes of the instance using dot notation, like self.name, which will access the name attribute of that specific instance of the class object. When you have variables that contain different values for different instances, these are called instance variables."
   ]
  },
  {
   "cell_type": "code",
   "execution_count": 5,
   "id": "495c33b9-93f6-4200-9511-75dd59dc5f47",
   "metadata": {},
   "outputs": [
    {
     "name": "stdout",
     "output_type": "stream",
     "text": [
      "Hello, my name is Alice.\n",
      "Hello, my name is Bob.\n",
      "Happy 26th birthday, Alice!\n"
     ]
    }
   ],
   "source": [
    "class Person:\n",
    "    def __init__(self, name, age):\n",
    "        self.name = name\n",
    "        self.age = age\n",
    "\n",
    "    def greet(self):\n",
    "        return f\"Hello, my name is {self.name}.\"\n",
    "\n",
    "    def celebrate_birthday(self):\n",
    "        self.age += 1\n",
    "        return f\"Happy {self.age}th birthday, {self.name}!\"\n",
    "\n",
    "# Creating instances of the Person class\n",
    "person1 = Person(\"Alice\", 25)\n",
    "person2 = Person(\"Bob\", 30)\n",
    "\n",
    "# Calling methods on the instances\n",
    "greeting1 = person1.greet()\n",
    "greeting2 = person2.greet()\n",
    "\n",
    "print(greeting1)  # Output: Hello, my name is Alice.\n",
    "print(greeting2)  # Output: Hello, my name is Bob.\n",
    "\n",
    "# Calling another method to celebrate a birthday\n",
    "birthday_message = person1.celebrate_birthday()\n",
    "print(birthday_message)  # Output: Happy 26th birthday, Alice!\n"
   ]
  },
  {
   "cell_type": "code",
   "execution_count": 7,
   "id": "a92e5488-cb59-420c-b6bc-3f80a98fdabf",
   "metadata": {},
   "outputs": [
    {
     "name": "stdout",
     "output_type": "stream",
     "text": [
      "hi, my name is John\n"
     ]
    }
   ],
   "source": [
    "class Person:\n",
    "    def __init__(self, name):\n",
    "        self.name = name  # Set the 'name' attribute to the provided argument.\n",
    "        \n",
    "    def greeting(self):\n",
    "        # Return a greeting string that includes the person's name.\n",
    "        return \"hi, my name is \" + self.name\n",
    "\n",
    "# Create a new instance with a name of your choice\n",
    "# Replace \"John\" with the name of your choice.\n",
    "some_person = Person(\"John\")\n",
    "\n",
    "# Call the greeting method\n",
    "# Call the 'greeting' method on 'some_person'.\n",
    "print(some_person.greeting())  # This will print the greeting.\n"
   ]
  },
  {
   "cell_type": "code",
   "execution_count": 11,
   "id": "a11892f8-6f10-4ded-9c6c-e93b4b7a9b36",
   "metadata": {},
   "outputs": [
    {
     "name": "stdin",
     "output_type": "stream",
     "text": [
      "Enter the first number:  28\n",
      "Enter the second number:  28\n"
     ]
    },
    {
     "data": {
      "text/plain": [
       "784"
      ]
     },
     "execution_count": 11,
     "metadata": {},
     "output_type": "execute_result"
    }
   ],
   "source": [
    "def add_numbers():\n",
    "\n",
    "  # Get the two numbers from the user.\n",
    "  x = input(\"Enter the first number: \")\n",
    "  y = input(\"Enter the second number: \")\n",
    "\n",
    "  # Convert the strings to integers.\n",
    "  x = int(x)\n",
    "  y = int(y)\n",
    "\n",
    "  # Add the two numbers and return the result.\n",
    "  return x * y\n",
    "\n",
    "add_numbers()"
   ]
  },
  {
   "cell_type": "markdown",
   "id": "270ebd1b-d37a-466e-9254-60dc48c192bc",
   "metadata": {},
   "source": [
    "# APPLYING DOCSTRING\n",
    "Remember our Person class from the last video? Let’s add a docstring to the greeting method. How about, “Outputs a message with the name of the person”."
   ]
  },
  {
   "cell_type": "code",
   "execution_count": 1,
   "id": "0e4d5623-195b-4aec-af59-150fe80426f0",
   "metadata": {},
   "outputs": [
    {
     "name": "stdout",
     "output_type": "stream",
     "text": [
      "Help on method greeting in module __main__:\n",
      "\n",
      "greeting() method of __main__.Person instance\n",
      "    Outputs a message with the name of the person.\n",
      "\n",
      "Help on class Person in module __main__:\n",
      "\n",
      "class Person(builtins.object)\n",
      " |  Person(name)\n",
      " |  \n",
      " |  Methods defined here:\n",
      " |  \n",
      " |  __init__(self, name)\n",
      " |      Initialize self.  See help(type(self)) for accurate signature.\n",
      " |  \n",
      " |  greeting(self)\n",
      " |      Outputs a message with the name of the person.\n",
      " |  \n",
      " |  ----------------------------------------------------------------------\n",
      " |  Data descriptors defined here:\n",
      " |  \n",
      " |  __dict__\n",
      " |      dictionary for instance variables (if defined)\n",
      " |  \n",
      " |  __weakref__\n",
      " |      list of weak references to the object (if defined)\n",
      "\n"
     ]
    }
   ],
   "source": [
    "class Person:\n",
    "    def __init__(self, name):\n",
    "        self.name = name\n",
    "\n",
    "    def greeting(self):\n",
    "        \"\"\"\n",
    "        Outputs a message with the name of the person.\n",
    "        \"\"\"\n",
    "        print(\"Hello! My name is {name}.\".format(name=self.name))\n",
    "\n",
    "# Create an instance of the Person class\n",
    "some_person = Person(\"John\")\n",
    "\n",
    "# Use the help function to get the docstring of the greeting method\n",
    "help(some_person.greeting)\n",
    "\n",
    "help(Person)"
   ]
  },
  {
   "cell_type": "code",
   "execution_count": 18,
   "id": "16ff8157-39db-47f3-a5ed-685dcdf62b72",
   "metadata": {},
   "outputs": [
    {
     "name": "stdout",
     "output_type": "stream",
     "text": [
      "Hello! My name is John.\n"
     ]
    }
   ],
   "source": [
    "class Person:\n",
    "    def __init__(self, name):\n",
    "        self.name = name\n",
    "\n",
    "    def greeting(self):\n",
    "        \"\"\"\n",
    "        Outputs a message with the name of the person.\n",
    "        \"\"\"\n",
    "        print(\"Hello! My name is {name}.\".format(name=self.name))\n",
    "\n",
    "# Create an instance of the Person class\n",
    "some_person = Person(\"John\")\n",
    "\n",
    "# Call the greeting method to print the message\n",
    "some_person.greeting()\n"
   ]
  },
  {
   "cell_type": "code",
   "execution_count": 19,
   "id": "a83ae307-45dd-4ff0-9274-6bf4bd80d7fa",
   "metadata": {},
   "outputs": [
    {
     "name": "stdout",
     "output_type": "stream",
     "text": [
      "red\n"
     ]
    }
   ],
   "source": [
    "class Apple:\n",
    "    def __init__(self, color, flavor):\n",
    "        self.color = color\n",
    "        self.flavor = flavor\n",
    "        \n",
    "jonagold = Apple(\"red\", \"sweet\")\n",
    "print(jonagold.color)\n"
   ]
  },
  {
   "cell_type": "code",
   "execution_count": 20,
   "id": "a703a2c8-1cc0-4746-9cb6-219745a08dc5",
   "metadata": {},
   "outputs": [
    {
     "name": "stdout",
     "output_type": "stream",
     "text": [
      "<__main__.Apple object at 0x7fa9ffef8640>\n"
     ]
    }
   ],
   "source": [
    "# Using the default representation which is the \"position of the object in the computer's memory\"\n",
    "\n",
    "print(jonagold)"
   ]
  },
  {
   "cell_type": "code",
   "execution_count": 21,
   "id": "9fc00dc0-980f-4dea-984d-16b217b8c4f0",
   "metadata": {},
   "outputs": [
    {
     "name": "stdout",
     "output_type": "stream",
     "text": [
      "red\n"
     ]
    }
   ],
   "source": [
    "# So how do we tell Python to print something that makes sense for us? We use the special STR method \n",
    "# which returns the string that we want to print. Let's see what this looks like. \n",
    "\n",
    "class Apple:\n",
    "    def __init__(self, color, flavor):\n",
    "        self.color = color\n",
    "        self.flavor = flavor\n",
    "        \n",
    "# By defining the special STR method, \n",
    "    def __str__(self):\n",
    "        return\"This apple is {} and its flavor is {}\".format(self.color, self.flavor)\n",
    "        \n",
    "jonagold = Apple(\"red\", \"sweet\")\n",
    "print(jonagold.color)\n",
    "\n",
    "\n"
   ]
  },
  {
   "cell_type": "code",
   "execution_count": 22,
   "id": "871480e4-9e80-48d6-a6b0-dc36e62f28a1",
   "metadata": {},
   "outputs": [
    {
     "name": "stdout",
     "output_type": "stream",
     "text": [
      "This apple is red  and its flavor is sweet\n"
     ]
    }
   ],
   "source": [
    "# we're telling Python that we want it to display when the print function is called with an instance of our class.\n",
    "\n",
    "print(jonagold)"
   ]
  },
  {
   "cell_type": "code",
   "execution_count": 3,
   "id": "28784d0f-2334-4766-a666-5081769d833c",
   "metadata": {},
   "outputs": [
    {
     "name": "stdout",
     "output_type": "stream",
     "text": [
      "Oink! I'm Hamlet! Oink!\n"
     ]
    }
   ],
   "source": [
    "class Animal:\n",
    "    sound = \"\"\n",
    "    def __init__(self, name):\n",
    "        self.name = name\n",
    "    def speak(self):\n",
    "        print(\"{sound} I'm {name}! {sound}\" .format(name=self.name, sound=self.sound))\n",
    "        \n",
    "class Piglet(Animal):\n",
    "    sound = \"Oink!\"\n",
    "    \n",
    "hamlet = Piglet(\"Hamlet\")\n",
    "hamlet.speak()"
   ]
  },
  {
   "cell_type": "code",
   "execution_count": 4,
   "id": "0f34fcd5-30de-4f2f-84d9-8a64510a9188",
   "metadata": {},
   "outputs": [
    {
     "name": "stdout",
     "output_type": "stream",
     "text": [
      "Mooooo I'm Milky White! Mooooo\n"
     ]
    }
   ],
   "source": [
    "class Cow(Animal):\n",
    "    sound = \"Mooooo\"\n",
    "    \n",
    "milky = Cow(\"Milky White\")\n",
    "milky.speak()"
   ]
  },
  {
   "cell_type": "code",
   "execution_count": 5,
   "id": "fab2f70a-3dd9-4a72-a016-0a7f09a612cd",
   "metadata": {},
   "outputs": [
    {
     "name": "stdout",
     "output_type": "stream",
     "text": [
      "This Polo is made of Cotton\n"
     ]
    }
   ],
   "source": [
    "class Clothing:\n",
    "  material = \"\"\n",
    "  def __init__(self,name):\n",
    "    self.name = name\n",
    "  def checkmaterial(self):\n",
    "\t  print(\"This {} is made of {}\".format(self.name,self.material))\n",
    "\t\t\t\n",
    "class Shirt(Clothing):\n",
    "  material=\"Cotton\"\n",
    "\n",
    "polo = Shirt(\"Polo\")\n",
    "polo.checkmaterial()"
   ]
  },
  {
   "cell_type": "code",
   "execution_count": 15,
   "id": "fc067d01-d3de-487c-b0ec-2b6738e61efe",
   "metadata": {},
   "outputs": [
    {
     "name": "stdout",
     "output_type": "stream",
     "text": [
      "Apple 1 color: Red, worms: ['Worm1', 'Worm2']\n",
      "Apple 2 color: Green, worms: ['Worm3']\n"
     ]
    }
   ],
   "source": [
    "# COMPOSITION\n",
    "\n",
    "# Now, let's explain each line:\n",
    "\n",
    "# 1. class Apple:: Defines a Python class named \"Apple.\"\n",
    "\n",
    "# 2. def __init__(self, color):: Defines the class constructor, \n",
    "# which is called when an instance of the class is created. It takes a \n",
    "# \"color\" parameter and initializes two instance attributes:\n",
    "\n",
    "# 3. self.color: An attribute representing the color of the apple, \n",
    "# which is unique to each instance.\n",
    "\n",
    "# 4. self.worms: An attribute representing a list of worms. It's \n",
    "# initialized as an empty list for each instance.\n",
    "\n",
    "# 5. def add_worm(self, worm_name):: Defines a method to add \n",
    "# worms to an apple instance. It takes a \"worm_name\" parameter and \n",
    "# appends it to the list of worms for the instance.\n",
    "\n",
    "# 6. def get_worms(self):: Defines a method to get the list of worms for an apple instance.\n",
    "\n",
    "# 7. apple1 = Apple(\"Red\"): Creates an instance of the \"Apple\" class with the color \"Red.\"\n",
    "\n",
    "# 8. apple2 = Apple(\"Green\"): Creates another instance of the \"Apple\" class with the color \"Green.\"\n",
    "\n",
    "# 9. 16-17. apple1.add_worm(\"Worm1\") and apple1.add_worm(\"Worm2\"): Add worms to the \"apple1\" instance. These worms are stored in its unique \"worms\" list.\n",
    "\n",
    "# 10. apple2.add_worm(\"Worm3\"): Add a worm to the \"apple2\" instance. It has its own independent \"worms\" list.\n",
    "\n",
    "# 23-24. Print the color and worms for each apple instance. You can see \n",
    "# that each apple has its color attribute and a list of worms that are independent of each other.\n",
    "\n",
    "# This code demonstrates composition by creating independent instances of the \"Apple\" class, \n",
    "# ensuring that each instance has its own attributes, including the mutable \"worms\" list. \n",
    "# This way, changes made to one apple instance do not affect others, \n",
    "# illustrating the principles discussed earlier.\n",
    "\n",
    "class Apple:\n",
    "    def __init__(self, color):\n",
    "        self.color = color\n",
    "        self.worms = []  # Initialize an empty list of worms for each instance\n",
    "\n",
    "    def add_worm(self, worm_name):\n",
    "        self.worms.append(worm_name)\n",
    "\n",
    "    def get_worms(self):\n",
    "        return self.worms\n",
    "\n",
    "# Create two instances of the Apple class\n",
    "apple1 = Apple(\"Red\")\n",
    "apple2 = Apple(\"Green\")\n",
    "\n",
    "# Add worms to apple1\n",
    "apple1.add_worm(\"Worm1\")\n",
    "apple1.add_worm(\"Worm2\")\n",
    "\n",
    "# Add worms to apple2\n",
    "apple2.add_worm(\"Worm3\")\n",
    "\n",
    "# Print the colors and worms for each apple\n",
    "print(f\"Apple 1 color: {apple1.color}, worms: {apple1.get_worms()}\")\n",
    "print(f\"Apple 2 color: {apple2.color}, worms: {apple2.get_worms()}\")\n"
   ]
  },
  {
   "cell_type": "code",
   "execution_count": null,
   "id": "69142970-9233-4e4e-bd47-db3acb4d5709",
   "metadata": {},
   "outputs": [],
   "source": []
  },
  {
   "cell_type": "code",
   "execution_count": null,
   "id": "85b0da97-5075-426e-a9ee-84388306964f",
   "metadata": {},
   "outputs": [],
   "source": []
  }
 ],
 "metadata": {
  "kernelspec": {
   "display_name": "Python 3 (ipykernel)",
   "language": "python",
   "name": "python3"
  },
  "language_info": {
   "codemirror_mode": {
    "name": "ipython",
    "version": 3
   },
   "file_extension": ".py",
   "mimetype": "text/x-python",
   "name": "python",
   "nbconvert_exporter": "python",
   "pygments_lexer": "ipython3",
   "version": "3.12.3"
  }
 },
 "nbformat": 4,
 "nbformat_minor": 5
}
